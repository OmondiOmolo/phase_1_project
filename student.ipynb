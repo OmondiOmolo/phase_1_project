{
 "cells": [
  {
   "cell_type": "markdown",
   "id": "2891589e",
   "metadata": {},
   "source": [
    "### INTRODUCTION\n",
    "### Our goal is to find out which aircrafts to purchase for either commercial or private enterprises. we will analyze data on aviation flight histories to determine which aircraft is best suited to our ventures based on the number of engines, engine type, make, model and the safety level associated with them.\n"
   ]
  },
  {
   "cell_type": "markdown",
   "id": "c996fe55",
   "metadata": {},
   "source": [
    "We first need to import the necessary libraries that we will use to clean,analyze and visualize the data in order to gain the relevant insights."
   ]
  },
  {
   "cell_type": "code",
   "execution_count": 1,
   "id": "f072983a",
   "metadata": {},
   "outputs": [],
   "source": [
    "#importing the libraries \n",
    "import pandas as pd\n",
    "import numpy as np\n",
    "import matplotlib.pyplot as plt\n",
    "import seaborn as sns\n"
   ]
  },
  {
   "cell_type": "markdown",
   "id": "6dc71682",
   "metadata": {},
   "source": [
    "We will use data from AviationData.csv and NTSB_database.csv.\n",
    "We begin by loading the AviationData.csv into a dataframe called aviation_data_df"
   ]
  },
  {
   "cell_type": "code",
   "execution_count": 2,
   "id": "29211bc0",
   "metadata": {},
   "outputs": [],
   "source": [
    "#loading the datasets\n",
    "#we set the encoding to Latin 1 since it isnt the default UTF-8\n",
    "aviation_data_df = pd.read_csv(\"AviationData.csv\", encoding = \"Latin 1\", low_memory=False)\n"
   ]
  },
  {
   "cell_type": "markdown",
   "id": "0bf51459",
   "metadata": {},
   "source": [
    "To inspect the dataframe structure we will use .info()"
   ]
  },
  {
   "cell_type": "code",
   "execution_count": 3,
   "id": "4dcabfe7",
   "metadata": {},
   "outputs": [
    {
     "name": "stdout",
     "output_type": "stream",
     "text": [
      "<class 'pandas.core.frame.DataFrame'>\n",
      "RangeIndex: 88889 entries, 0 to 88888\n",
      "Data columns (total 31 columns):\n",
      " #   Column                  Non-Null Count  Dtype  \n",
      "---  ------                  --------------  -----  \n",
      " 0   Event.Id                88889 non-null  object \n",
      " 1   Investigation.Type      88889 non-null  object \n",
      " 2   Accident.Number         88889 non-null  object \n",
      " 3   Event.Date              88889 non-null  object \n",
      " 4   Location                88837 non-null  object \n",
      " 5   Country                 88663 non-null  object \n",
      " 6   Latitude                34382 non-null  object \n",
      " 7   Longitude               34373 non-null  object \n",
      " 8   Airport.Code            50249 non-null  object \n",
      " 9   Airport.Name            52790 non-null  object \n",
      " 10  Injury.Severity         87889 non-null  object \n",
      " 11  Aircraft.damage         85695 non-null  object \n",
      " 12  Aircraft.Category       32287 non-null  object \n",
      " 13  Registration.Number     87572 non-null  object \n",
      " 14  Make                    88826 non-null  object \n",
      " 15  Model                   88797 non-null  object \n",
      " 16  Amateur.Built           88787 non-null  object \n",
      " 17  Number.of.Engines       82805 non-null  float64\n",
      " 18  Engine.Type             81812 non-null  object \n",
      " 19  FAR.Description         32023 non-null  object \n",
      " 20  Schedule                12582 non-null  object \n",
      " 21  Purpose.of.flight       82697 non-null  object \n",
      " 22  Air.carrier             16648 non-null  object \n",
      " 23  Total.Fatal.Injuries    77488 non-null  float64\n",
      " 24  Total.Serious.Injuries  76379 non-null  float64\n",
      " 25  Total.Minor.Injuries    76956 non-null  float64\n",
      " 26  Total.Uninjured         82977 non-null  float64\n",
      " 27  Weather.Condition       84397 non-null  object \n",
      " 28  Broad.phase.of.flight   61724 non-null  object \n",
      " 29  Report.Status           82508 non-null  object \n",
      " 30  Publication.Date        75118 non-null  object \n",
      "dtypes: float64(5), object(26)\n",
      "memory usage: 21.0+ MB\n"
     ]
    }
   ],
   "source": [
    "#inspecting the dataframe structure\n",
    "aviation_data_df.info()"
   ]
  },
  {
   "cell_type": "markdown",
   "id": "86c6e58c",
   "metadata": {},
   "source": [
    "We can also check for null values for all columns"
   ]
  },
  {
   "cell_type": "code",
   "execution_count": 4,
   "id": "d5ee82f2",
   "metadata": {},
   "outputs": [
    {
     "data": {
      "text/plain": [
       "Event.Id                      0\n",
       "Investigation.Type            0\n",
       "Accident.Number               0\n",
       "Event.Date                    0\n",
       "Location                     52\n",
       "Country                     226\n",
       "Latitude                  54507\n",
       "Longitude                 54516\n",
       "Airport.Code              38640\n",
       "Airport.Name              36099\n",
       "Injury.Severity            1000\n",
       "Aircraft.damage            3194\n",
       "Aircraft.Category         56602\n",
       "Registration.Number        1317\n",
       "Make                         63\n",
       "Model                        92\n",
       "Amateur.Built               102\n",
       "Number.of.Engines          6084\n",
       "Engine.Type                7077\n",
       "FAR.Description           56866\n",
       "Schedule                  76307\n",
       "Purpose.of.flight          6192\n",
       "Air.carrier               72241\n",
       "Total.Fatal.Injuries      11401\n",
       "Total.Serious.Injuries    12510\n",
       "Total.Minor.Injuries      11933\n",
       "Total.Uninjured            5912\n",
       "Weather.Condition          4492\n",
       "Broad.phase.of.flight     27165\n",
       "Report.Status              6381\n",
       "Publication.Date          13771\n",
       "dtype: int64"
      ]
     },
     "execution_count": 4,
     "metadata": {},
     "output_type": "execute_result"
    }
   ],
   "source": [
    "#we realise there are a number of inconsistent column values which we need to correct because many have missing values,some are nul\n",
    "aviation_data_df.isna().sum()"
   ]
  },
  {
   "cell_type": "markdown",
   "id": "a23a0660",
   "metadata": {},
   "source": [
    "Our dataframe has 31 columns with inconsistent rows.\n",
    "We however have adequate data in the columns that are useful to us hence we can retrieve those while dropping others."
   ]
  },
  {
   "cell_type": "markdown",
   "id": "d8452daf",
   "metadata": {},
   "source": [
    "Check for duplicated rows"
   ]
  },
  {
   "cell_type": "code",
   "execution_count": 5,
   "id": "73a2a4d4",
   "metadata": {},
   "outputs": [
    {
     "data": {
      "text/plain": [
       "938"
      ]
     },
     "execution_count": 5,
     "metadata": {},
     "output_type": "execute_result"
    }
   ],
   "source": [
    "aviation_data_df[\"Event.Id\"].duplicated().sum()"
   ]
  },
  {
   "cell_type": "markdown",
   "id": "76336ec2",
   "metadata": {},
   "source": [
    "These have to be dropped because they are redundant.We will drop duplicates on Event.Id since we will use this column to merge data in our other csv file called NTSB_database.csv "
   ]
  },
  {
   "cell_type": "code",
   "execution_count": 6,
   "id": "bb27f035",
   "metadata": {},
   "outputs": [],
   "source": [
    "#dropping duplicates using the Event.Id column as a subset\n",
    "aviation_data_df.drop_duplicates(subset=\"Event.Id\",inplace=True, keep=\"first\")"
   ]
  },
  {
   "cell_type": "code",
   "execution_count": 7,
   "id": "6ebe460a",
   "metadata": {},
   "outputs": [
    {
     "data": {
      "text/plain": [
       "0"
      ]
     },
     "execution_count": 7,
     "metadata": {},
     "output_type": "execute_result"
    }
   ],
   "source": [
    "#confirm that the duplicates have been dropped\n",
    "aviation_data_df[\"Event.Id\"].duplicated().sum()"
   ]
  },
  {
   "cell_type": "markdown",
   "id": "bd38acc6",
   "metadata": {},
   "source": [
    "We now inspect the columns individually in order to account for missing or null values by either keeping,discarding or replacing the values. We can also change the datatype of some of the columns to the most appropriate type."
   ]
  },
  {
   "cell_type": "code",
   "execution_count": 8,
   "id": "b8505af2",
   "metadata": {},
   "outputs": [],
   "source": [
    "#changing the Event.Date type from object to datetime\n",
    "aviation_data_df[\"Event.Date\"]=pd.to_datetime(aviation_data_df[\"Event.Date\"])"
   ]
  },
  {
   "cell_type": "code",
   "execution_count": 9,
   "id": "1c24c296",
   "metadata": {},
   "outputs": [
    {
     "name": "stdout",
     "output_type": "stream",
     "text": [
      "<class 'pandas.core.frame.DataFrame'>\n",
      "Int64Index: 87951 entries, 0 to 88888\n",
      "Data columns (total 31 columns):\n",
      " #   Column                  Non-Null Count  Dtype         \n",
      "---  ------                  --------------  -----         \n",
      " 0   Event.Id                87951 non-null  object        \n",
      " 1   Investigation.Type      87951 non-null  object        \n",
      " 2   Accident.Number         87951 non-null  object        \n",
      " 3   Event.Date              87951 non-null  datetime64[ns]\n",
      " 4   Location                87899 non-null  object        \n",
      " 5   Country                 87729 non-null  object        \n",
      " 6   Latitude                34212 non-null  object        \n",
      " 7   Longitude               34203 non-null  object        \n",
      " 8   Airport.Code            49601 non-null  object        \n",
      " 9   Airport.Name            52117 non-null  object        \n",
      " 10  Injury.Severity         86961 non-null  object        \n",
      " 11  Aircraft.damage         84848 non-null  object        \n",
      " 12  Aircraft.Category       32181 non-null  object        \n",
      " 13  Registration.Number     86666 non-null  object        \n",
      " 14  Make                    87888 non-null  object        \n",
      " 15  Model                   87859 non-null  object        \n",
      " 16  Amateur.Built           87851 non-null  object        \n",
      " 17  Number.of.Engines       81924 non-null  float64       \n",
      " 18  Engine.Type             80927 non-null  object        \n",
      " 19  FAR.Description         31915 non-null  object        \n",
      " 20  Schedule                12360 non-null  object        \n",
      " 21  Purpose.of.flight       81829 non-null  object        \n",
      " 22  Air.carrier             16533 non-null  object        \n",
      " 23  Total.Fatal.Injuries    76684 non-null  float64       \n",
      " 24  Total.Serious.Injuries  75629 non-null  float64       \n",
      " 25  Total.Minor.Injuries    76191 non-null  float64       \n",
      " 26  Total.Uninjured         82088 non-null  float64       \n",
      " 27  Weather.Condition       83478 non-null  object        \n",
      " 28  Broad.phase.of.flight   60837 non-null  object        \n",
      " 29  Report.Status           81590 non-null  object        \n",
      " 30  Publication.Date        74352 non-null  object        \n",
      "dtypes: datetime64[ns](1), float64(5), object(25)\n",
      "memory usage: 21.5+ MB\n"
     ]
    }
   ],
   "source": [
    "aviation_data_df.info()"
   ]
  },
  {
   "cell_type": "markdown",
   "id": "95e53377",
   "metadata": {},
   "source": [
    "Moving on to the Location column."
   ]
  },
  {
   "cell_type": "code",
   "execution_count": 10,
   "id": "e616c3e7",
   "metadata": {},
   "outputs": [
    {
     "data": {
      "text/plain": [
       "0     MOOSE CREEK, ID\n",
       "1      BRIDGEPORT, CA\n",
       "2       Saltville, VA\n",
       "3          EUREKA, CA\n",
       "4          Canton, OH\n",
       "5          BOSTON, MA\n",
       "6          COTTON, MN\n",
       "7         PULLMAN, WA\n",
       "8    EAST HANOVER, NJ\n",
       "9    JACKSONVILLE, FL\n",
       "Name: Location, dtype: object"
      ]
     },
     "execution_count": 10,
     "metadata": {},
     "output_type": "execute_result"
    }
   ],
   "source": [
    "#view the first 10 rows\n",
    "aviation_data_df[\"Location\"].head(10)"
   ]
  },
  {
   "cell_type": "markdown",
   "id": "14a750d1",
   "metadata": {},
   "source": [
    " we realize it contains both the city and state name. we can split these into two seperate columns named City and State respectively."
   ]
  },
  {
   "cell_type": "code",
   "execution_count": 11,
   "id": "848146cf",
   "metadata": {},
   "outputs": [],
   "source": [
    "#we will use split the string into two using the , as a delimiter\n",
    "aviation_data_df[[\"City\",\"State\"]]=aviation_data_df[\"Location\"].str.split(\",\",1,expand=True)"
   ]
  },
  {
   "cell_type": "code",
   "execution_count": 12,
   "id": "a9f23c1e",
   "metadata": {},
   "outputs": [],
   "source": [
    "#we can then drop the Location column (as it has been replaced by city and state column) along with other columns which are not relevant for our research or might be missing too many rows.\n",
    "aviation_data_df.drop(columns=[\"Report.Status\",\"Broad.phase.of.flight\",\"Weather.Condition\",\"Longitude\",\"Latitude\",\"Airport.Code\",\"Airport.Name\",\"Accident.Number\",\"Location\",\"Air.carrier\",\"Registration.Number\",\"FAR.Description\",\"Schedule\",\"Publication.Date\"], axis = 1,inplace=True)"
   ]
  },
  {
   "cell_type": "markdown",
   "id": "dfed38a0",
   "metadata": {},
   "source": [
    "we can inspect the new dataframe once more and we can see datetime datatype and we have created two new columns and dropped a number of other columns."
   ]
  },
  {
   "cell_type": "code",
   "execution_count": 13,
   "id": "479581f5",
   "metadata": {},
   "outputs": [
    {
     "name": "stdout",
     "output_type": "stream",
     "text": [
      "<class 'pandas.core.frame.DataFrame'>\n",
      "Int64Index: 87951 entries, 0 to 88888\n",
      "Data columns (total 19 columns):\n",
      " #   Column                  Non-Null Count  Dtype         \n",
      "---  ------                  --------------  -----         \n",
      " 0   Event.Id                87951 non-null  object        \n",
      " 1   Investigation.Type      87951 non-null  object        \n",
      " 2   Event.Date              87951 non-null  datetime64[ns]\n",
      " 3   Country                 87729 non-null  object        \n",
      " 4   Injury.Severity         86961 non-null  object        \n",
      " 5   Aircraft.damage         84848 non-null  object        \n",
      " 6   Aircraft.Category       32181 non-null  object        \n",
      " 7   Make                    87888 non-null  object        \n",
      " 8   Model                   87859 non-null  object        \n",
      " 9   Amateur.Built           87851 non-null  object        \n",
      " 10  Number.of.Engines       81924 non-null  float64       \n",
      " 11  Engine.Type             80927 non-null  object        \n",
      " 12  Purpose.of.flight       81829 non-null  object        \n",
      " 13  Total.Fatal.Injuries    76684 non-null  float64       \n",
      " 14  Total.Serious.Injuries  75629 non-null  float64       \n",
      " 15  Total.Minor.Injuries    76191 non-null  float64       \n",
      " 16  Total.Uninjured         82088 non-null  float64       \n",
      " 17  City                    87899 non-null  object        \n",
      " 18  State                   87403 non-null  object        \n",
      "dtypes: datetime64[ns](1), float64(5), object(13)\n",
      "memory usage: 13.4+ MB\n"
     ]
    }
   ],
   "source": [
    "aviation_data_df.info()"
   ]
  },
  {
   "cell_type": "markdown",
   "id": "cc6f93a8",
   "metadata": {},
   "source": [
    "Now that we have a good number of columns we can use ,the next step is to deal with null, eroneous and missing values"
   ]
  },
  {
   "cell_type": "code",
   "execution_count": 14,
   "id": "6f6757e2",
   "metadata": {},
   "outputs": [
    {
     "data": {
      "text/plain": [
       "Event.Id                      0\n",
       "Investigation.Type            0\n",
       "Event.Date                    0\n",
       "Country                     222\n",
       "Injury.Severity             990\n",
       "Aircraft.damage            3103\n",
       "Aircraft.Category         55770\n",
       "Make                         63\n",
       "Model                        92\n",
       "Amateur.Built               100\n",
       "Number.of.Engines          6027\n",
       "Engine.Type                7024\n",
       "Purpose.of.flight          6122\n",
       "Total.Fatal.Injuries      11267\n",
       "Total.Serious.Injuries    12322\n",
       "Total.Minor.Injuries      11760\n",
       "Total.Uninjured            5863\n",
       "City                         52\n",
       "State                       548\n",
       "dtype: int64"
      ]
     },
     "execution_count": 14,
     "metadata": {},
     "output_type": "execute_result"
    }
   ],
   "source": [
    "#checking for null, missing or eroneous values\n",
    "aviation_data_df.isna().sum()"
   ]
  },
  {
   "cell_type": "markdown",
   "id": "b7f97ad9",
   "metadata": {},
   "source": [
    "Moving on to Country column with 222 missing values. \n",
    "the missing rows are insignificant hence we will drop them without introducing bias"
   ]
  },
  {
   "cell_type": "code",
   "execution_count": 15,
   "id": "19451d9f",
   "metadata": {},
   "outputs": [],
   "source": [
    "#dropping rows with missing values for Country column\n",
    "aviation_data_df.dropna(subset=[\"Country\"], inplace=True)"
   ]
  },
  {
   "cell_type": "markdown",
   "id": "f8fabc13",
   "metadata": {},
   "source": [
    "For longitude and latitude the missing rows are significant, however we have country column which can also tell us the accident sites hence we will drop them."
   ]
  },
  {
   "cell_type": "code",
   "execution_count": 16,
   "id": "bffbfd37",
   "metadata": {},
   "outputs": [
    {
     "data": {
      "text/html": [
       "<div>\n",
       "<style scoped>\n",
       "    .dataframe tbody tr th:only-of-type {\n",
       "        vertical-align: middle;\n",
       "    }\n",
       "\n",
       "    .dataframe tbody tr th {\n",
       "        vertical-align: top;\n",
       "    }\n",
       "\n",
       "    .dataframe thead th {\n",
       "        text-align: right;\n",
       "    }\n",
       "</style>\n",
       "<table border=\"1\" class=\"dataframe\">\n",
       "  <thead>\n",
       "    <tr style=\"text-align: right;\">\n",
       "      <th></th>\n",
       "      <th>Event.Id</th>\n",
       "      <th>Investigation.Type</th>\n",
       "      <th>Event.Date</th>\n",
       "      <th>Country</th>\n",
       "      <th>Injury.Severity</th>\n",
       "      <th>Aircraft.damage</th>\n",
       "      <th>Aircraft.Category</th>\n",
       "      <th>Make</th>\n",
       "      <th>Model</th>\n",
       "      <th>Amateur.Built</th>\n",
       "      <th>Number.of.Engines</th>\n",
       "      <th>Engine.Type</th>\n",
       "      <th>Purpose.of.flight</th>\n",
       "      <th>Total.Fatal.Injuries</th>\n",
       "      <th>Total.Serious.Injuries</th>\n",
       "      <th>Total.Minor.Injuries</th>\n",
       "      <th>Total.Uninjured</th>\n",
       "      <th>City</th>\n",
       "      <th>State</th>\n",
       "    </tr>\n",
       "  </thead>\n",
       "  <tbody>\n",
       "    <tr>\n",
       "      <th>0</th>\n",
       "      <td>20001218X45444</td>\n",
       "      <td>Accident</td>\n",
       "      <td>1948-10-24</td>\n",
       "      <td>United States</td>\n",
       "      <td>Fatal(2)</td>\n",
       "      <td>Destroyed</td>\n",
       "      <td>NaN</td>\n",
       "      <td>Stinson</td>\n",
       "      <td>108-3</td>\n",
       "      <td>No</td>\n",
       "      <td>1.0</td>\n",
       "      <td>Reciprocating</td>\n",
       "      <td>Personal</td>\n",
       "      <td>2.0</td>\n",
       "      <td>0.0</td>\n",
       "      <td>0.0</td>\n",
       "      <td>0.0</td>\n",
       "      <td>MOOSE CREEK</td>\n",
       "      <td>ID</td>\n",
       "    </tr>\n",
       "    <tr>\n",
       "      <th>1</th>\n",
       "      <td>20001218X45447</td>\n",
       "      <td>Accident</td>\n",
       "      <td>1962-07-19</td>\n",
       "      <td>United States</td>\n",
       "      <td>Fatal(4)</td>\n",
       "      <td>Destroyed</td>\n",
       "      <td>NaN</td>\n",
       "      <td>Piper</td>\n",
       "      <td>PA24-180</td>\n",
       "      <td>No</td>\n",
       "      <td>1.0</td>\n",
       "      <td>Reciprocating</td>\n",
       "      <td>Personal</td>\n",
       "      <td>4.0</td>\n",
       "      <td>0.0</td>\n",
       "      <td>0.0</td>\n",
       "      <td>0.0</td>\n",
       "      <td>BRIDGEPORT</td>\n",
       "      <td>CA</td>\n",
       "    </tr>\n",
       "    <tr>\n",
       "      <th>2</th>\n",
       "      <td>20061025X01555</td>\n",
       "      <td>Accident</td>\n",
       "      <td>1974-08-30</td>\n",
       "      <td>United States</td>\n",
       "      <td>Fatal(3)</td>\n",
       "      <td>Destroyed</td>\n",
       "      <td>NaN</td>\n",
       "      <td>Cessna</td>\n",
       "      <td>172M</td>\n",
       "      <td>No</td>\n",
       "      <td>1.0</td>\n",
       "      <td>Reciprocating</td>\n",
       "      <td>Personal</td>\n",
       "      <td>3.0</td>\n",
       "      <td>NaN</td>\n",
       "      <td>NaN</td>\n",
       "      <td>NaN</td>\n",
       "      <td>Saltville</td>\n",
       "      <td>VA</td>\n",
       "    </tr>\n",
       "    <tr>\n",
       "      <th>3</th>\n",
       "      <td>20001218X45448</td>\n",
       "      <td>Accident</td>\n",
       "      <td>1977-06-19</td>\n",
       "      <td>United States</td>\n",
       "      <td>Fatal(2)</td>\n",
       "      <td>Destroyed</td>\n",
       "      <td>NaN</td>\n",
       "      <td>Rockwell</td>\n",
       "      <td>112</td>\n",
       "      <td>No</td>\n",
       "      <td>1.0</td>\n",
       "      <td>Reciprocating</td>\n",
       "      <td>Personal</td>\n",
       "      <td>2.0</td>\n",
       "      <td>0.0</td>\n",
       "      <td>0.0</td>\n",
       "      <td>0.0</td>\n",
       "      <td>EUREKA</td>\n",
       "      <td>CA</td>\n",
       "    </tr>\n",
       "    <tr>\n",
       "      <th>4</th>\n",
       "      <td>20041105X01764</td>\n",
       "      <td>Accident</td>\n",
       "      <td>1979-08-02</td>\n",
       "      <td>United States</td>\n",
       "      <td>Fatal(1)</td>\n",
       "      <td>Destroyed</td>\n",
       "      <td>NaN</td>\n",
       "      <td>Cessna</td>\n",
       "      <td>501</td>\n",
       "      <td>No</td>\n",
       "      <td>NaN</td>\n",
       "      <td>NaN</td>\n",
       "      <td>Personal</td>\n",
       "      <td>1.0</td>\n",
       "      <td>2.0</td>\n",
       "      <td>NaN</td>\n",
       "      <td>0.0</td>\n",
       "      <td>Canton</td>\n",
       "      <td>OH</td>\n",
       "    </tr>\n",
       "    <tr>\n",
       "      <th>5</th>\n",
       "      <td>20170710X52551</td>\n",
       "      <td>Accident</td>\n",
       "      <td>1979-09-17</td>\n",
       "      <td>United States</td>\n",
       "      <td>Non-Fatal</td>\n",
       "      <td>Substantial</td>\n",
       "      <td>Airplane</td>\n",
       "      <td>Mcdonnell Douglas</td>\n",
       "      <td>DC9</td>\n",
       "      <td>No</td>\n",
       "      <td>2.0</td>\n",
       "      <td>Turbo Fan</td>\n",
       "      <td>NaN</td>\n",
       "      <td>NaN</td>\n",
       "      <td>NaN</td>\n",
       "      <td>1.0</td>\n",
       "      <td>44.0</td>\n",
       "      <td>BOSTON</td>\n",
       "      <td>MA</td>\n",
       "    </tr>\n",
       "    <tr>\n",
       "      <th>6</th>\n",
       "      <td>20001218X45446</td>\n",
       "      <td>Accident</td>\n",
       "      <td>1981-08-01</td>\n",
       "      <td>United States</td>\n",
       "      <td>Fatal(4)</td>\n",
       "      <td>Destroyed</td>\n",
       "      <td>NaN</td>\n",
       "      <td>Cessna</td>\n",
       "      <td>180</td>\n",
       "      <td>No</td>\n",
       "      <td>1.0</td>\n",
       "      <td>Reciprocating</td>\n",
       "      <td>Personal</td>\n",
       "      <td>4.0</td>\n",
       "      <td>0.0</td>\n",
       "      <td>0.0</td>\n",
       "      <td>0.0</td>\n",
       "      <td>COTTON</td>\n",
       "      <td>MN</td>\n",
       "    </tr>\n",
       "    <tr>\n",
       "      <th>7</th>\n",
       "      <td>20020909X01562</td>\n",
       "      <td>Accident</td>\n",
       "      <td>1982-01-01</td>\n",
       "      <td>United States</td>\n",
       "      <td>Non-Fatal</td>\n",
       "      <td>Substantial</td>\n",
       "      <td>Airplane</td>\n",
       "      <td>Cessna</td>\n",
       "      <td>140</td>\n",
       "      <td>No</td>\n",
       "      <td>1.0</td>\n",
       "      <td>Reciprocating</td>\n",
       "      <td>Personal</td>\n",
       "      <td>0.0</td>\n",
       "      <td>0.0</td>\n",
       "      <td>0.0</td>\n",
       "      <td>2.0</td>\n",
       "      <td>PULLMAN</td>\n",
       "      <td>WA</td>\n",
       "    </tr>\n",
       "    <tr>\n",
       "      <th>8</th>\n",
       "      <td>20020909X01561</td>\n",
       "      <td>Accident</td>\n",
       "      <td>1982-01-01</td>\n",
       "      <td>United States</td>\n",
       "      <td>Non-Fatal</td>\n",
       "      <td>Substantial</td>\n",
       "      <td>Airplane</td>\n",
       "      <td>Cessna</td>\n",
       "      <td>401B</td>\n",
       "      <td>No</td>\n",
       "      <td>2.0</td>\n",
       "      <td>Reciprocating</td>\n",
       "      <td>Business</td>\n",
       "      <td>0.0</td>\n",
       "      <td>0.0</td>\n",
       "      <td>0.0</td>\n",
       "      <td>2.0</td>\n",
       "      <td>EAST HANOVER</td>\n",
       "      <td>NJ</td>\n",
       "    </tr>\n",
       "    <tr>\n",
       "      <th>9</th>\n",
       "      <td>20020909X01560</td>\n",
       "      <td>Accident</td>\n",
       "      <td>1982-01-01</td>\n",
       "      <td>United States</td>\n",
       "      <td>Non-Fatal</td>\n",
       "      <td>Substantial</td>\n",
       "      <td>NaN</td>\n",
       "      <td>North American</td>\n",
       "      <td>NAVION L-17B</td>\n",
       "      <td>No</td>\n",
       "      <td>1.0</td>\n",
       "      <td>Reciprocating</td>\n",
       "      <td>Personal</td>\n",
       "      <td>0.0</td>\n",
       "      <td>0.0</td>\n",
       "      <td>3.0</td>\n",
       "      <td>0.0</td>\n",
       "      <td>JACKSONVILLE</td>\n",
       "      <td>FL</td>\n",
       "    </tr>\n",
       "  </tbody>\n",
       "</table>\n",
       "</div>"
      ],
      "text/plain": [
       "         Event.Id Investigation.Type Event.Date        Country  \\\n",
       "0  20001218X45444           Accident 1948-10-24  United States   \n",
       "1  20001218X45447           Accident 1962-07-19  United States   \n",
       "2  20061025X01555           Accident 1974-08-30  United States   \n",
       "3  20001218X45448           Accident 1977-06-19  United States   \n",
       "4  20041105X01764           Accident 1979-08-02  United States   \n",
       "5  20170710X52551           Accident 1979-09-17  United States   \n",
       "6  20001218X45446           Accident 1981-08-01  United States   \n",
       "7  20020909X01562           Accident 1982-01-01  United States   \n",
       "8  20020909X01561           Accident 1982-01-01  United States   \n",
       "9  20020909X01560           Accident 1982-01-01  United States   \n",
       "\n",
       "  Injury.Severity Aircraft.damage Aircraft.Category               Make  \\\n",
       "0        Fatal(2)       Destroyed               NaN            Stinson   \n",
       "1        Fatal(4)       Destroyed               NaN              Piper   \n",
       "2        Fatal(3)       Destroyed               NaN             Cessna   \n",
       "3        Fatal(2)       Destroyed               NaN           Rockwell   \n",
       "4        Fatal(1)       Destroyed               NaN             Cessna   \n",
       "5       Non-Fatal     Substantial          Airplane  Mcdonnell Douglas   \n",
       "6        Fatal(4)       Destroyed               NaN             Cessna   \n",
       "7       Non-Fatal     Substantial          Airplane             Cessna   \n",
       "8       Non-Fatal     Substantial          Airplane             Cessna   \n",
       "9       Non-Fatal     Substantial               NaN     North American   \n",
       "\n",
       "          Model Amateur.Built  Number.of.Engines    Engine.Type  \\\n",
       "0         108-3            No                1.0  Reciprocating   \n",
       "1      PA24-180            No                1.0  Reciprocating   \n",
       "2          172M            No                1.0  Reciprocating   \n",
       "3           112            No                1.0  Reciprocating   \n",
       "4           501            No                NaN            NaN   \n",
       "5           DC9            No                2.0      Turbo Fan   \n",
       "6           180            No                1.0  Reciprocating   \n",
       "7           140            No                1.0  Reciprocating   \n",
       "8          401B            No                2.0  Reciprocating   \n",
       "9  NAVION L-17B            No                1.0  Reciprocating   \n",
       "\n",
       "  Purpose.of.flight  Total.Fatal.Injuries  Total.Serious.Injuries  \\\n",
       "0          Personal                   2.0                     0.0   \n",
       "1          Personal                   4.0                     0.0   \n",
       "2          Personal                   3.0                     NaN   \n",
       "3          Personal                   2.0                     0.0   \n",
       "4          Personal                   1.0                     2.0   \n",
       "5               NaN                   NaN                     NaN   \n",
       "6          Personal                   4.0                     0.0   \n",
       "7          Personal                   0.0                     0.0   \n",
       "8          Business                   0.0                     0.0   \n",
       "9          Personal                   0.0                     0.0   \n",
       "\n",
       "   Total.Minor.Injuries  Total.Uninjured          City State  \n",
       "0                   0.0              0.0   MOOSE CREEK    ID  \n",
       "1                   0.0              0.0    BRIDGEPORT    CA  \n",
       "2                   NaN              NaN     Saltville    VA  \n",
       "3                   0.0              0.0        EUREKA    CA  \n",
       "4                   NaN              0.0        Canton    OH  \n",
       "5                   1.0             44.0        BOSTON    MA  \n",
       "6                   0.0              0.0        COTTON    MN  \n",
       "7                   0.0              2.0       PULLMAN    WA  \n",
       "8                   0.0              2.0  EAST HANOVER    NJ  \n",
       "9                   3.0              0.0  JACKSONVILLE    FL  "
      ]
     },
     "execution_count": 16,
     "metadata": {},
     "output_type": "execute_result"
    }
   ],
   "source": [
    "#viewing the first 10 rows\n",
    "aviation_data_df.head(10)"
   ]
  },
  {
   "cell_type": "markdown",
   "id": "6d867bec",
   "metadata": {},
   "source": [
    "For the Injury.Severity column, we can replace the missing values with unknown without losing information"
   ]
  },
  {
   "cell_type": "code",
   "execution_count": 17,
   "id": "112d9d2a",
   "metadata": {},
   "outputs": [],
   "source": [
    "#filling the missing rows with string unknown\n",
    "aviation_data_df[\"Injury.Severity\"].fillna(\"unknown\", inplace=True)"
   ]
  },
  {
   "cell_type": "code",
   "execution_count": 18,
   "id": "706c4add",
   "metadata": {},
   "outputs": [
    {
     "data": {
      "text/plain": [
       "0"
      ]
     },
     "execution_count": 18,
     "metadata": {},
     "output_type": "execute_result"
    }
   ],
   "source": [
    "aviation_data_df[\"Injury.Severity\"].isna().sum()"
   ]
  },
  {
   "cell_type": "markdown",
   "id": "46a4752b",
   "metadata": {},
   "source": [
    "For Aircraft.damage column our missing values could mean there wasnt any damage. instead of dropping them, we can use the category unknown to fill the null values"
   ]
  },
  {
   "cell_type": "code",
   "execution_count": 19,
   "id": "208972e1",
   "metadata": {},
   "outputs": [
    {
     "data": {
      "text/plain": [
       "3089"
      ]
     },
     "execution_count": 19,
     "metadata": {},
     "output_type": "execute_result"
    }
   ],
   "source": [
    "aviation_data_df[\"Aircraft.damage\"].isna().sum()"
   ]
  },
  {
   "cell_type": "code",
   "execution_count": 20,
   "id": "6abeeb59",
   "metadata": {},
   "outputs": [
    {
     "data": {
      "text/plain": [
       "Substantial    63526\n",
       "Destroyed      18322\n",
       "Minor           2673\n",
       "Unknown          119\n",
       "Name: Aircraft.damage, dtype: int64"
      ]
     },
     "execution_count": 20,
     "metadata": {},
     "output_type": "execute_result"
    }
   ],
   "source": [
    "aviation_data_df[\"Aircraft.damage\"].value_counts()"
   ]
  },
  {
   "cell_type": "code",
   "execution_count": 21,
   "id": "c98ba2fa",
   "metadata": {},
   "outputs": [],
   "source": [
    "#we use the category called unknown and use it to fill the null values\n",
    "aviation_data_df[\"Aircraft.damage\"].astype(\"category\")\n",
    "aviation_data_df[\"Aircraft.damage\"].fillna(\"Unknown\", inplace = True)"
   ]
  },
  {
   "cell_type": "code",
   "execution_count": 22,
   "id": "3db106af",
   "metadata": {},
   "outputs": [
    {
     "data": {
      "text/plain": [
       "Substantial    63526\n",
       "Destroyed      18322\n",
       "Unknown         3208\n",
       "Minor           2673\n",
       "Name: Aircraft.damage, dtype: int64"
      ]
     },
     "execution_count": 22,
     "metadata": {},
     "output_type": "execute_result"
    }
   ],
   "source": [
    "aviation_data_df[\"Aircraft.damage\"].isna().sum()\n",
    "aviation_data_df['Aircraft.damage'].value_counts()"
   ]
  },
  {
   "cell_type": "markdown",
   "id": "496cf7d3",
   "metadata": {},
   "source": [
    "We will repeat the process for Aircraft category as deleting the rows will result in significant loss of data"
   ]
  },
  {
   "cell_type": "code",
   "execution_count": 23,
   "id": "4ae56832",
   "metadata": {},
   "outputs": [
    {
     "data": {
      "text/plain": [
       "55560"
      ]
     },
     "execution_count": 23,
     "metadata": {},
     "output_type": "execute_result"
    }
   ],
   "source": [
    "#checking for null values\n",
    "aviation_data_df[\"Aircraft.Category\"].isna().sum()"
   ]
  },
  {
   "cell_type": "code",
   "execution_count": 24,
   "id": "9b93dd87",
   "metadata": {},
   "outputs": [
    {
     "data": {
      "text/plain": [
       "0             NaN\n",
       "1             NaN\n",
       "2             NaN\n",
       "3             NaN\n",
       "4             NaN\n",
       "           ...   \n",
       "88884         NaN\n",
       "88885         NaN\n",
       "88886    Airplane\n",
       "88887         NaN\n",
       "88888         NaN\n",
       "Name: Aircraft.Category, Length: 87729, dtype: category\n",
       "Categories (15, object): ['Airplane', 'Balloon', 'Blimp', 'Glider', ..., 'Ultralight', 'Unknown', 'WSFT', 'Weight-Shift']"
      ]
     },
     "execution_count": 24,
     "metadata": {},
     "output_type": "execute_result"
    }
   ],
   "source": [
    "#checking for unique values/categories\n",
    "aviation_data_df[\"Aircraft.Category\"].value_counts()\n",
    "aviation_data_df[\"Aircraft.Category\"].astype(\"category\")"
   ]
  },
  {
   "cell_type": "markdown",
   "id": "f18d4bf5",
   "metadata": {},
   "source": [
    "We already have an unknown category hence we will add the null values to this category"
   ]
  },
  {
   "cell_type": "code",
   "execution_count": 25,
   "id": "a3e5ad01",
   "metadata": {},
   "outputs": [],
   "source": [
    "#adding the null values to unknown category\n",
    "aviation_data_df[\"Aircraft.Category\"].fillna(\"Unknown\", inplace = True)"
   ]
  },
  {
   "cell_type": "markdown",
   "id": "f54afc99",
   "metadata": {},
   "source": [
    "For the make and model, dropping the rows will have a negligible impact on the analysis since we do not want to introduce unneccessary bias"
   ]
  },
  {
   "cell_type": "code",
   "execution_count": 26,
   "id": "a95240eb",
   "metadata": {},
   "outputs": [],
   "source": [
    "#dropping the missing rows using make and model column as subsets\n",
    "aviation_data_df.dropna(subset=[\"Make\"], inplace=True)\n",
    "aviation_data_df.dropna(subset=[\"Model\"], inplace=True)\n"
   ]
  },
  {
   "cell_type": "markdown",
   "id": "83349570",
   "metadata": {},
   "source": [
    "for column called Amateur built we will inspect first for the unique values"
   ]
  },
  {
   "cell_type": "code",
   "execution_count": 27,
   "id": "9f8893d9",
   "metadata": {},
   "outputs": [
    {
     "data": {
      "text/plain": [
       "array(['No', 'Yes', nan], dtype=object)"
      ]
     },
     "execution_count": 27,
     "metadata": {},
     "output_type": "execute_result"
    }
   ],
   "source": [
    "aviation_data_df[\"Amateur.Built\"].unique()"
   ]
  },
  {
   "cell_type": "markdown",
   "id": "d13ac233",
   "metadata": {},
   "source": [
    "we will add the category unknown for the missing rows "
   ]
  },
  {
   "cell_type": "code",
   "execution_count": 28,
   "id": "17a6d7da",
   "metadata": {},
   "outputs": [],
   "source": [
    "#we create a new category called unknown and use it to fill the null values\n",
    "aviation_data_df[\"Amateur.Built\"] = aviation_data_df[\"Amateur.Built\"].astype(\"category\")\n",
    "aviation_data_df[\"Amateur.Built\"] = aviation_data_df[\"Amateur.Built\"].cat.add_categories(\"unknown\")\n",
    "aviation_data_df[\"Amateur.Built\"].fillna(\"unknown\", inplace = True)"
   ]
  },
  {
   "cell_type": "markdown",
   "id": "64ccc8e4",
   "metadata": {},
   "source": [
    "For the Number of Engines column we can fill in the missing values using the mode"
   ]
  },
  {
   "cell_type": "code",
   "execution_count": 29,
   "id": "d3930c42",
   "metadata": {},
   "outputs": [],
   "source": [
    "#we will use the mode to fill the missing values\n",
    "aviation_data_df[\"Number.of.Engines\"] = aviation_data_df[\"Number.of.Engines\"].fillna(aviation_data_df[\"Number.of.Engines\"].mode()[0])"
   ]
  },
  {
   "cell_type": "code",
   "execution_count": 30,
   "id": "0dfe491f",
   "metadata": {},
   "outputs": [
    {
     "data": {
      "text/html": [
       "<div>\n",
       "<style scoped>\n",
       "    .dataframe tbody tr th:only-of-type {\n",
       "        vertical-align: middle;\n",
       "    }\n",
       "\n",
       "    .dataframe tbody tr th {\n",
       "        vertical-align: top;\n",
       "    }\n",
       "\n",
       "    .dataframe thead th {\n",
       "        text-align: right;\n",
       "    }\n",
       "</style>\n",
       "<table border=\"1\" class=\"dataframe\">\n",
       "  <thead>\n",
       "    <tr style=\"text-align: right;\">\n",
       "      <th></th>\n",
       "      <th>Event.Id</th>\n",
       "      <th>Investigation.Type</th>\n",
       "      <th>Event.Date</th>\n",
       "      <th>Country</th>\n",
       "      <th>Injury.Severity</th>\n",
       "      <th>Aircraft.damage</th>\n",
       "      <th>Aircraft.Category</th>\n",
       "      <th>Make</th>\n",
       "      <th>Model</th>\n",
       "      <th>Amateur.Built</th>\n",
       "      <th>Number.of.Engines</th>\n",
       "      <th>Engine.Type</th>\n",
       "      <th>Purpose.of.flight</th>\n",
       "      <th>Total.Fatal.Injuries</th>\n",
       "      <th>Total.Serious.Injuries</th>\n",
       "      <th>Total.Minor.Injuries</th>\n",
       "      <th>Total.Uninjured</th>\n",
       "      <th>City</th>\n",
       "      <th>State</th>\n",
       "    </tr>\n",
       "  </thead>\n",
       "  <tbody>\n",
       "    <tr>\n",
       "      <th>0</th>\n",
       "      <td>20001218X45444</td>\n",
       "      <td>Accident</td>\n",
       "      <td>1948-10-24</td>\n",
       "      <td>United States</td>\n",
       "      <td>Fatal(2)</td>\n",
       "      <td>Destroyed</td>\n",
       "      <td>Unknown</td>\n",
       "      <td>Stinson</td>\n",
       "      <td>108-3</td>\n",
       "      <td>No</td>\n",
       "      <td>1.0</td>\n",
       "      <td>Reciprocating</td>\n",
       "      <td>Personal</td>\n",
       "      <td>2.0</td>\n",
       "      <td>0.0</td>\n",
       "      <td>0.0</td>\n",
       "      <td>0.0</td>\n",
       "      <td>MOOSE CREEK</td>\n",
       "      <td>ID</td>\n",
       "    </tr>\n",
       "    <tr>\n",
       "      <th>1</th>\n",
       "      <td>20001218X45447</td>\n",
       "      <td>Accident</td>\n",
       "      <td>1962-07-19</td>\n",
       "      <td>United States</td>\n",
       "      <td>Fatal(4)</td>\n",
       "      <td>Destroyed</td>\n",
       "      <td>Unknown</td>\n",
       "      <td>Piper</td>\n",
       "      <td>PA24-180</td>\n",
       "      <td>No</td>\n",
       "      <td>1.0</td>\n",
       "      <td>Reciprocating</td>\n",
       "      <td>Personal</td>\n",
       "      <td>4.0</td>\n",
       "      <td>0.0</td>\n",
       "      <td>0.0</td>\n",
       "      <td>0.0</td>\n",
       "      <td>BRIDGEPORT</td>\n",
       "      <td>CA</td>\n",
       "    </tr>\n",
       "    <tr>\n",
       "      <th>2</th>\n",
       "      <td>20061025X01555</td>\n",
       "      <td>Accident</td>\n",
       "      <td>1974-08-30</td>\n",
       "      <td>United States</td>\n",
       "      <td>Fatal(3)</td>\n",
       "      <td>Destroyed</td>\n",
       "      <td>Unknown</td>\n",
       "      <td>Cessna</td>\n",
       "      <td>172M</td>\n",
       "      <td>No</td>\n",
       "      <td>1.0</td>\n",
       "      <td>Reciprocating</td>\n",
       "      <td>Personal</td>\n",
       "      <td>3.0</td>\n",
       "      <td>NaN</td>\n",
       "      <td>NaN</td>\n",
       "      <td>NaN</td>\n",
       "      <td>Saltville</td>\n",
       "      <td>VA</td>\n",
       "    </tr>\n",
       "    <tr>\n",
       "      <th>3</th>\n",
       "      <td>20001218X45448</td>\n",
       "      <td>Accident</td>\n",
       "      <td>1977-06-19</td>\n",
       "      <td>United States</td>\n",
       "      <td>Fatal(2)</td>\n",
       "      <td>Destroyed</td>\n",
       "      <td>Unknown</td>\n",
       "      <td>Rockwell</td>\n",
       "      <td>112</td>\n",
       "      <td>No</td>\n",
       "      <td>1.0</td>\n",
       "      <td>Reciprocating</td>\n",
       "      <td>Personal</td>\n",
       "      <td>2.0</td>\n",
       "      <td>0.0</td>\n",
       "      <td>0.0</td>\n",
       "      <td>0.0</td>\n",
       "      <td>EUREKA</td>\n",
       "      <td>CA</td>\n",
       "    </tr>\n",
       "    <tr>\n",
       "      <th>4</th>\n",
       "      <td>20041105X01764</td>\n",
       "      <td>Accident</td>\n",
       "      <td>1979-08-02</td>\n",
       "      <td>United States</td>\n",
       "      <td>Fatal(1)</td>\n",
       "      <td>Destroyed</td>\n",
       "      <td>Unknown</td>\n",
       "      <td>Cessna</td>\n",
       "      <td>501</td>\n",
       "      <td>No</td>\n",
       "      <td>1.0</td>\n",
       "      <td>NaN</td>\n",
       "      <td>Personal</td>\n",
       "      <td>1.0</td>\n",
       "      <td>2.0</td>\n",
       "      <td>NaN</td>\n",
       "      <td>0.0</td>\n",
       "      <td>Canton</td>\n",
       "      <td>OH</td>\n",
       "    </tr>\n",
       "    <tr>\n",
       "      <th>5</th>\n",
       "      <td>20170710X52551</td>\n",
       "      <td>Accident</td>\n",
       "      <td>1979-09-17</td>\n",
       "      <td>United States</td>\n",
       "      <td>Non-Fatal</td>\n",
       "      <td>Substantial</td>\n",
       "      <td>Airplane</td>\n",
       "      <td>Mcdonnell Douglas</td>\n",
       "      <td>DC9</td>\n",
       "      <td>No</td>\n",
       "      <td>2.0</td>\n",
       "      <td>Turbo Fan</td>\n",
       "      <td>NaN</td>\n",
       "      <td>NaN</td>\n",
       "      <td>NaN</td>\n",
       "      <td>1.0</td>\n",
       "      <td>44.0</td>\n",
       "      <td>BOSTON</td>\n",
       "      <td>MA</td>\n",
       "    </tr>\n",
       "    <tr>\n",
       "      <th>6</th>\n",
       "      <td>20001218X45446</td>\n",
       "      <td>Accident</td>\n",
       "      <td>1981-08-01</td>\n",
       "      <td>United States</td>\n",
       "      <td>Fatal(4)</td>\n",
       "      <td>Destroyed</td>\n",
       "      <td>Unknown</td>\n",
       "      <td>Cessna</td>\n",
       "      <td>180</td>\n",
       "      <td>No</td>\n",
       "      <td>1.0</td>\n",
       "      <td>Reciprocating</td>\n",
       "      <td>Personal</td>\n",
       "      <td>4.0</td>\n",
       "      <td>0.0</td>\n",
       "      <td>0.0</td>\n",
       "      <td>0.0</td>\n",
       "      <td>COTTON</td>\n",
       "      <td>MN</td>\n",
       "    </tr>\n",
       "    <tr>\n",
       "      <th>7</th>\n",
       "      <td>20020909X01562</td>\n",
       "      <td>Accident</td>\n",
       "      <td>1982-01-01</td>\n",
       "      <td>United States</td>\n",
       "      <td>Non-Fatal</td>\n",
       "      <td>Substantial</td>\n",
       "      <td>Airplane</td>\n",
       "      <td>Cessna</td>\n",
       "      <td>140</td>\n",
       "      <td>No</td>\n",
       "      <td>1.0</td>\n",
       "      <td>Reciprocating</td>\n",
       "      <td>Personal</td>\n",
       "      <td>0.0</td>\n",
       "      <td>0.0</td>\n",
       "      <td>0.0</td>\n",
       "      <td>2.0</td>\n",
       "      <td>PULLMAN</td>\n",
       "      <td>WA</td>\n",
       "    </tr>\n",
       "    <tr>\n",
       "      <th>8</th>\n",
       "      <td>20020909X01561</td>\n",
       "      <td>Accident</td>\n",
       "      <td>1982-01-01</td>\n",
       "      <td>United States</td>\n",
       "      <td>Non-Fatal</td>\n",
       "      <td>Substantial</td>\n",
       "      <td>Airplane</td>\n",
       "      <td>Cessna</td>\n",
       "      <td>401B</td>\n",
       "      <td>No</td>\n",
       "      <td>2.0</td>\n",
       "      <td>Reciprocating</td>\n",
       "      <td>Business</td>\n",
       "      <td>0.0</td>\n",
       "      <td>0.0</td>\n",
       "      <td>0.0</td>\n",
       "      <td>2.0</td>\n",
       "      <td>EAST HANOVER</td>\n",
       "      <td>NJ</td>\n",
       "    </tr>\n",
       "    <tr>\n",
       "      <th>9</th>\n",
       "      <td>20020909X01560</td>\n",
       "      <td>Accident</td>\n",
       "      <td>1982-01-01</td>\n",
       "      <td>United States</td>\n",
       "      <td>Non-Fatal</td>\n",
       "      <td>Substantial</td>\n",
       "      <td>Unknown</td>\n",
       "      <td>North American</td>\n",
       "      <td>NAVION L-17B</td>\n",
       "      <td>No</td>\n",
       "      <td>1.0</td>\n",
       "      <td>Reciprocating</td>\n",
       "      <td>Personal</td>\n",
       "      <td>0.0</td>\n",
       "      <td>0.0</td>\n",
       "      <td>3.0</td>\n",
       "      <td>0.0</td>\n",
       "      <td>JACKSONVILLE</td>\n",
       "      <td>FL</td>\n",
       "    </tr>\n",
       "    <tr>\n",
       "      <th>10</th>\n",
       "      <td>20020909X01559</td>\n",
       "      <td>Accident</td>\n",
       "      <td>1982-01-01</td>\n",
       "      <td>United States</td>\n",
       "      <td>Non-Fatal</td>\n",
       "      <td>Substantial</td>\n",
       "      <td>Unknown</td>\n",
       "      <td>Piper</td>\n",
       "      <td>PA-28-161</td>\n",
       "      <td>No</td>\n",
       "      <td>1.0</td>\n",
       "      <td>Reciprocating</td>\n",
       "      <td>Personal</td>\n",
       "      <td>0.0</td>\n",
       "      <td>0.0</td>\n",
       "      <td>0.0</td>\n",
       "      <td>1.0</td>\n",
       "      <td>HOBBS</td>\n",
       "      <td>NM</td>\n",
       "    </tr>\n",
       "    <tr>\n",
       "      <th>11</th>\n",
       "      <td>20020909X01558</td>\n",
       "      <td>Accident</td>\n",
       "      <td>1982-01-01</td>\n",
       "      <td>United States</td>\n",
       "      <td>Non-Fatal</td>\n",
       "      <td>Substantial</td>\n",
       "      <td>Unknown</td>\n",
       "      <td>Beech</td>\n",
       "      <td>V35B</td>\n",
       "      <td>No</td>\n",
       "      <td>1.0</td>\n",
       "      <td>Reciprocating</td>\n",
       "      <td>Personal</td>\n",
       "      <td>0.0</td>\n",
       "      <td>0.0</td>\n",
       "      <td>0.0</td>\n",
       "      <td>1.0</td>\n",
       "      <td>TUSKEGEE</td>\n",
       "      <td>AL</td>\n",
       "    </tr>\n",
       "    <tr>\n",
       "      <th>12</th>\n",
       "      <td>20020917X02148</td>\n",
       "      <td>Accident</td>\n",
       "      <td>1982-01-02</td>\n",
       "      <td>United States</td>\n",
       "      <td>Non-Fatal</td>\n",
       "      <td>Destroyed</td>\n",
       "      <td>Airplane</td>\n",
       "      <td>Bellanca</td>\n",
       "      <td>17-30A</td>\n",
       "      <td>No</td>\n",
       "      <td>1.0</td>\n",
       "      <td>Reciprocating</td>\n",
       "      <td>Personal</td>\n",
       "      <td>0.0</td>\n",
       "      <td>0.0</td>\n",
       "      <td>1.0</td>\n",
       "      <td>0.0</td>\n",
       "      <td>HOMER</td>\n",
       "      <td>LA</td>\n",
       "    </tr>\n",
       "    <tr>\n",
       "      <th>13</th>\n",
       "      <td>20020917X02134</td>\n",
       "      <td>Accident</td>\n",
       "      <td>1982-01-02</td>\n",
       "      <td>United States</td>\n",
       "      <td>Fatal(1)</td>\n",
       "      <td>Destroyed</td>\n",
       "      <td>Airplane</td>\n",
       "      <td>Cessna</td>\n",
       "      <td>R172K</td>\n",
       "      <td>No</td>\n",
       "      <td>1.0</td>\n",
       "      <td>Reciprocating</td>\n",
       "      <td>Personal</td>\n",
       "      <td>1.0</td>\n",
       "      <td>0.0</td>\n",
       "      <td>0.0</td>\n",
       "      <td>0.0</td>\n",
       "      <td>HEARNE</td>\n",
       "      <td>TX</td>\n",
       "    </tr>\n",
       "    <tr>\n",
       "      <th>14</th>\n",
       "      <td>20020917X02119</td>\n",
       "      <td>Accident</td>\n",
       "      <td>1982-01-02</td>\n",
       "      <td>United States</td>\n",
       "      <td>Fatal(1)</td>\n",
       "      <td>Destroyed</td>\n",
       "      <td>Airplane</td>\n",
       "      <td>Navion</td>\n",
       "      <td>A</td>\n",
       "      <td>No</td>\n",
       "      <td>1.0</td>\n",
       "      <td>Reciprocating</td>\n",
       "      <td>Personal</td>\n",
       "      <td>1.0</td>\n",
       "      <td>0.0</td>\n",
       "      <td>0.0</td>\n",
       "      <td>0.0</td>\n",
       "      <td>CHICKASHA</td>\n",
       "      <td>OK</td>\n",
       "    </tr>\n",
       "  </tbody>\n",
       "</table>\n",
       "</div>"
      ],
      "text/plain": [
       "          Event.Id Investigation.Type Event.Date        Country  \\\n",
       "0   20001218X45444           Accident 1948-10-24  United States   \n",
       "1   20001218X45447           Accident 1962-07-19  United States   \n",
       "2   20061025X01555           Accident 1974-08-30  United States   \n",
       "3   20001218X45448           Accident 1977-06-19  United States   \n",
       "4   20041105X01764           Accident 1979-08-02  United States   \n",
       "5   20170710X52551           Accident 1979-09-17  United States   \n",
       "6   20001218X45446           Accident 1981-08-01  United States   \n",
       "7   20020909X01562           Accident 1982-01-01  United States   \n",
       "8   20020909X01561           Accident 1982-01-01  United States   \n",
       "9   20020909X01560           Accident 1982-01-01  United States   \n",
       "10  20020909X01559           Accident 1982-01-01  United States   \n",
       "11  20020909X01558           Accident 1982-01-01  United States   \n",
       "12  20020917X02148           Accident 1982-01-02  United States   \n",
       "13  20020917X02134           Accident 1982-01-02  United States   \n",
       "14  20020917X02119           Accident 1982-01-02  United States   \n",
       "\n",
       "   Injury.Severity Aircraft.damage Aircraft.Category               Make  \\\n",
       "0         Fatal(2)       Destroyed           Unknown            Stinson   \n",
       "1         Fatal(4)       Destroyed           Unknown              Piper   \n",
       "2         Fatal(3)       Destroyed           Unknown             Cessna   \n",
       "3         Fatal(2)       Destroyed           Unknown           Rockwell   \n",
       "4         Fatal(1)       Destroyed           Unknown             Cessna   \n",
       "5        Non-Fatal     Substantial          Airplane  Mcdonnell Douglas   \n",
       "6         Fatal(4)       Destroyed           Unknown             Cessna   \n",
       "7        Non-Fatal     Substantial          Airplane             Cessna   \n",
       "8        Non-Fatal     Substantial          Airplane             Cessna   \n",
       "9        Non-Fatal     Substantial           Unknown     North American   \n",
       "10       Non-Fatal     Substantial           Unknown              Piper   \n",
       "11       Non-Fatal     Substantial           Unknown              Beech   \n",
       "12       Non-Fatal       Destroyed          Airplane           Bellanca   \n",
       "13        Fatal(1)       Destroyed          Airplane             Cessna   \n",
       "14        Fatal(1)       Destroyed          Airplane             Navion   \n",
       "\n",
       "           Model Amateur.Built  Number.of.Engines    Engine.Type  \\\n",
       "0          108-3            No                1.0  Reciprocating   \n",
       "1       PA24-180            No                1.0  Reciprocating   \n",
       "2           172M            No                1.0  Reciprocating   \n",
       "3            112            No                1.0  Reciprocating   \n",
       "4            501            No                1.0            NaN   \n",
       "5            DC9            No                2.0      Turbo Fan   \n",
       "6            180            No                1.0  Reciprocating   \n",
       "7            140            No                1.0  Reciprocating   \n",
       "8           401B            No                2.0  Reciprocating   \n",
       "9   NAVION L-17B            No                1.0  Reciprocating   \n",
       "10     PA-28-161            No                1.0  Reciprocating   \n",
       "11          V35B            No                1.0  Reciprocating   \n",
       "12        17-30A            No                1.0  Reciprocating   \n",
       "13         R172K            No                1.0  Reciprocating   \n",
       "14             A            No                1.0  Reciprocating   \n",
       "\n",
       "   Purpose.of.flight  Total.Fatal.Injuries  Total.Serious.Injuries  \\\n",
       "0           Personal                   2.0                     0.0   \n",
       "1           Personal                   4.0                     0.0   \n",
       "2           Personal                   3.0                     NaN   \n",
       "3           Personal                   2.0                     0.0   \n",
       "4           Personal                   1.0                     2.0   \n",
       "5                NaN                   NaN                     NaN   \n",
       "6           Personal                   4.0                     0.0   \n",
       "7           Personal                   0.0                     0.0   \n",
       "8           Business                   0.0                     0.0   \n",
       "9           Personal                   0.0                     0.0   \n",
       "10          Personal                   0.0                     0.0   \n",
       "11          Personal                   0.0                     0.0   \n",
       "12          Personal                   0.0                     0.0   \n",
       "13          Personal                   1.0                     0.0   \n",
       "14          Personal                   1.0                     0.0   \n",
       "\n",
       "    Total.Minor.Injuries  Total.Uninjured          City State  \n",
       "0                    0.0              0.0   MOOSE CREEK    ID  \n",
       "1                    0.0              0.0    BRIDGEPORT    CA  \n",
       "2                    NaN              NaN     Saltville    VA  \n",
       "3                    0.0              0.0        EUREKA    CA  \n",
       "4                    NaN              0.0        Canton    OH  \n",
       "5                    1.0             44.0        BOSTON    MA  \n",
       "6                    0.0              0.0        COTTON    MN  \n",
       "7                    0.0              2.0       PULLMAN    WA  \n",
       "8                    0.0              2.0  EAST HANOVER    NJ  \n",
       "9                    3.0              0.0  JACKSONVILLE    FL  \n",
       "10                   0.0              1.0         HOBBS    NM  \n",
       "11                   0.0              1.0      TUSKEGEE    AL  \n",
       "12                   1.0              0.0         HOMER    LA  \n",
       "13                   0.0              0.0        HEARNE    TX  \n",
       "14                   0.0              0.0     CHICKASHA    OK  "
      ]
     },
     "execution_count": 30,
     "metadata": {},
     "output_type": "execute_result"
    }
   ],
   "source": [
    "#to view the first 15 rows\n",
    "aviation_data_df.head(15)"
   ]
  },
  {
   "cell_type": "markdown",
   "id": "681dd16a",
   "metadata": {},
   "source": [
    "For the column engine.type we can replace the missing values with unknown"
   ]
  },
  {
   "cell_type": "code",
   "execution_count": 31,
   "id": "1e29a3ff",
   "metadata": {},
   "outputs": [
    {
     "data": {
      "text/plain": [
       "0        Reciprocating\n",
       "1        Reciprocating\n",
       "2        Reciprocating\n",
       "3        Reciprocating\n",
       "4                  NaN\n",
       "             ...      \n",
       "88884              NaN\n",
       "88885              NaN\n",
       "88886              NaN\n",
       "88887              NaN\n",
       "88888              NaN\n",
       "Name: Engine.Type, Length: 87618, dtype: category\n",
       "Categories (13, object): ['Electric', 'Geared Turbofan', 'Hybrid Rocket', 'LR', ..., 'Turbo Prop', 'Turbo Shaft', 'UNK', 'Unknown']"
      ]
     },
     "execution_count": 31,
     "metadata": {},
     "output_type": "execute_result"
    }
   ],
   "source": [
    "#inspecting for the different categories\n",
    "aviation_data_df[\"Engine.Type\"].unique()\n",
    "aviation_data_df[\"Engine.Type\"].astype(\"category\")"
   ]
  },
  {
   "cell_type": "code",
   "execution_count": 32,
   "id": "837b26c2",
   "metadata": {},
   "outputs": [],
   "source": [
    "#we already have a category called unknown and we can use it to fill the null values\n",
    "aviation_data_df[\"Engine.Type\"].fillna(\"Unknown\", inplace = True)\n"
   ]
  },
  {
   "cell_type": "markdown",
   "id": "ac80cd17",
   "metadata": {},
   "source": [
    "We now take a look at the purpose of flight column"
   ]
  },
  {
   "cell_type": "code",
   "execution_count": 33,
   "id": "b85efffe",
   "metadata": {},
   "outputs": [
    {
     "data": {
      "text/plain": [
       "array(['Personal', nan, 'Business', 'Instructional', 'Unknown', 'Ferry',\n",
       "       'Executive/corporate', 'Aerial Observation', 'Aerial Application',\n",
       "       'Public Aircraft', 'Skydiving', 'Other Work Use', 'Positioning',\n",
       "       'Flight Test', 'Air Race/show', 'Air Drop',\n",
       "       'Public Aircraft - Federal', 'Glider Tow',\n",
       "       'Public Aircraft - Local', 'External Load',\n",
       "       'Public Aircraft - State', 'Banner Tow', 'Firefighting',\n",
       "       'Air Race show', 'PUBS', 'ASHO', 'PUBL'], dtype=object)"
      ]
     },
     "execution_count": 33,
     "metadata": {},
     "output_type": "execute_result"
    }
   ],
   "source": [
    "#inspecting the column categories\n",
    "aviation_data_df[\"Purpose.of.flight\"].astype(\"category\")\n",
    "aviation_data_df[\"Purpose.of.flight\"].unique()"
   ]
  },
  {
   "cell_type": "code",
   "execution_count": 34,
   "id": "0e33b422",
   "metadata": {},
   "outputs": [],
   "source": [
    "#we already have a category called unknown and we can use it to fill the null values\n",
    "aviation_data_df[\"Purpose.of.flight\"].fillna(\"Unknown\", inplace = True)"
   ]
  },
  {
   "cell_type": "code",
   "execution_count": 35,
   "id": "9018e215",
   "metadata": {},
   "outputs": [
    {
     "data": {
      "text/plain": [
       "Personal                     48987\n",
       "Unknown                      12558\n",
       "Instructional                10429\n",
       "Aerial Application            4684\n",
       "Business                      3956\n",
       "Positioning                   1614\n",
       "Other Work Use                1245\n",
       "Ferry                          802\n",
       "Aerial Observation             780\n",
       "Public Aircraft                708\n",
       "Executive/corporate            538\n",
       "Flight Test                    404\n",
       "Skydiving                      181\n",
       "External Load                  123\n",
       "Public Aircraft - Federal      104\n",
       "Banner Tow                     101\n",
       "Air Race show                   99\n",
       "Public Aircraft - Local         74\n",
       "Public Aircraft - State         64\n",
       "Air Race/show                   53\n",
       "Glider Tow                      53\n",
       "Firefighting                    40\n",
       "Air Drop                        11\n",
       "ASHO                             5\n",
       "PUBS                             4\n",
       "PUBL                             1\n",
       "Name: Purpose.of.flight, dtype: int64"
      ]
     },
     "execution_count": 35,
     "metadata": {},
     "output_type": "execute_result"
    }
   ],
   "source": [
    "aviation_data_df[\"Purpose.of.flight\"].value_counts()"
   ]
  },
  {
   "cell_type": "markdown",
   "id": "692f48b1",
   "metadata": {},
   "source": [
    "we can observe if we have dealt with the null values"
   ]
  },
  {
   "cell_type": "code",
   "execution_count": 36,
   "id": "4efdea65",
   "metadata": {},
   "outputs": [
    {
     "data": {
      "text/plain": [
       "0"
      ]
     },
     "execution_count": 36,
     "metadata": {},
     "output_type": "execute_result"
    }
   ],
   "source": [
    "#checking for the total number of null values\n",
    "#it should reflect 0 since we have already dealt with the null values\n",
    "aviation_data_df[\"Purpose.of.flight\"].isna().sum()"
   ]
  },
  {
   "cell_type": "markdown",
   "id": "eb780c3f",
   "metadata": {},
   "source": [
    "According to the data, we can see that the Total.Fatal.Injuries, Total.Minor.Injuries, Total.Serious.Injuries, Total.Uninjured columns have NaN inplace of 0. For example, looking at the Injury.Severity column, we realize that non fatal corresponds to NaN in Total.Fatal.Injuries. We will therefore replace the NaN with 0 in the columns mentioned above."
   ]
  },
  {
   "cell_type": "code",
   "execution_count": 37,
   "id": "ef56e736",
   "metadata": {},
   "outputs": [
    {
     "data": {
      "text/plain": [
       "0         Unknown\n",
       "1         Unknown\n",
       "2         Unknown\n",
       "3         Unknown\n",
       "4         Unknown\n",
       "           ...   \n",
       "88884     Unknown\n",
       "88885     Unknown\n",
       "88886    Airplane\n",
       "88887     Unknown\n",
       "88888     Unknown\n",
       "Name: Aircraft.Category, Length: 87618, dtype: category\n",
       "Categories (15, object): ['Airplane', 'Balloon', 'Blimp', 'Glider', ..., 'Ultralight', 'Unknown', 'WSFT', 'Weight-Shift']"
      ]
     },
     "execution_count": 37,
     "metadata": {},
     "output_type": "execute_result"
    }
   ],
   "source": [
    "#fill the NaN values with 0 \n",
    "aviation_data_df[\"Total.Fatal.Injuries\"].isna().sum()\n",
    "aviation_data_df['Total.Fatal.Injuries'].fillna(0, inplace=True)\n",
    "aviation_data_df['Total.Minor.Injuries'].fillna(0, inplace=True)\n",
    "aviation_data_df['Total.Serious.Injuries'].fillna(0,inplace=True)\n",
    "aviation_data_df['Total.Uninjured'].fillna(0,inplace=True)\n",
    "aviation_data_df[[\"Total.Fatal.Injuries\",\"Total.Minor.Injuries\",\"Total.Serious.Injuries\",\"Total.Uninjured\"]].astype=\"int\"\n",
    "aviation_data_df[\"Aircraft.Category\"].astype(\"category\")"
   ]
  },
  {
   "cell_type": "markdown",
   "id": "831850ab",
   "metadata": {},
   "source": [
    "For city and State, the number of null values is negligible so we can use both columns as a subset and drop the rows"
   ]
  },
  {
   "cell_type": "code",
   "execution_count": 38,
   "id": "5dfffc77",
   "metadata": {},
   "outputs": [],
   "source": [
    "#dropping the rows containing null values\n",
    "aviation_data_df.dropna(subset=[\"City\",\"State\"],inplace=True)"
   ]
  },
  {
   "cell_type": "markdown",
   "id": "e3ab60f0",
   "metadata": {},
   "source": [
    "### We then load the NTSB_database.csv into a dataframe. We will merge this dataframe to our initial aviation_data_df using the Event.Id as our key to create a single dataframe which we will call merged_df."
   ]
  },
  {
   "cell_type": "code",
   "execution_count": 39,
   "id": "612fd97b",
   "metadata": {},
   "outputs": [
    {
     "name": "stdout",
     "output_type": "stream",
     "text": [
      "<class 'pandas.core.frame.DataFrame'>\n",
      "RangeIndex: 87951 entries, 0 to 87950\n",
      "Data columns (total 45 columns):\n",
      " #   Column                        Non-Null Count  Dtype  \n",
      "---  ------                        --------------  -----  \n",
      " 0   Event Id                      87951 non-null  object \n",
      " 1   Investigation Type            87951 non-null  object \n",
      " 2   Country                       87951 non-null  object \n",
      " 3   Aircraft Damage               87951 non-null  object \n",
      " 4   Aircraft Category             87951 non-null  object \n",
      " 5   Make                          87951 non-null  object \n",
      " 6   Model                         87951 non-null  object \n",
      " 7   Amateur Built                 87951 non-null  object \n",
      " 8   Number Of Engines             87951 non-null  int64  \n",
      " 9   Engine Type                   87951 non-null  object \n",
      " 10  Far Description               87951 non-null  object \n",
      " 11  Schedule                      87951 non-null  object \n",
      " 12  Purpose Of Flight             87951 non-null  object \n",
      " 13  Total Fatal Injuries          87951 non-null  int64  \n",
      " 14  Total Serious Injuries        87951 non-null  int64  \n",
      " 15  Total Minor Injuries          87951 non-null  int64  \n",
      " 16  Total Uninjured               87951 non-null  int64  \n",
      " 17  Weather Condition             87951 non-null  object \n",
      " 18  Broad Phase Of Flight         87951 non-null  object \n",
      " 19  Analysis                      87951 non-null  object \n",
      " 20  City                          87939 non-null  object \n",
      " 21  Longitude                     87951 non-null  float64\n",
      " 22  Latitude                      87951 non-null  float64\n",
      " 23  Address                       87951 non-null  object \n",
      " 24  geometry                      87951 non-null  object \n",
      " 25  Place                         87951 non-null  object \n",
      " 26  Number Of Seats               87951 non-null  int64  \n",
      " 27  Type Aircraft                 87951 non-null  int64  \n",
      " 28  Type Engine                   87951 non-null  int64  \n",
      " 29  Total Person                  87951 non-null  int64  \n",
      " 30  Far Description Factorized    87951 non-null  int64  \n",
      " 31  Schedule Factorized           87951 non-null  int64  \n",
      " 32  Purpose Of Flight Factorized  87951 non-null  int64  \n",
      " 33  Make Factorized               87951 non-null  int64  \n",
      " 34  Model Factorized              87951 non-null  int64  \n",
      " 35  Event Year                    87951 non-null  int64  \n",
      " 36  Publication Year              87951 non-null  int64  \n",
      " 37  Event Month                   87951 non-null  int64  \n",
      " 38  Publication Month             87951 non-null  int64  \n",
      " 39  Event Day                     87951 non-null  int64  \n",
      " 40  Publication Day               87951 non-null  float64\n",
      " 41  Date Difference               87951 non-null  int64  \n",
      " 42  Publication Month Name        87951 non-null  object \n",
      " 43  Event Month Name              87951 non-null  object \n",
      " 44  Season                        87951 non-null  object \n",
      "dtypes: float64(3), int64(20), object(22)\n",
      "memory usage: 30.2+ MB\n"
     ]
    }
   ],
   "source": [
    "#loading the dataset into a dataframe object\n",
    "ntsb_database_df=pd.read_csv(\"NTSB_database.csv\")\n",
    "ntsb_database_df.info()"
   ]
  },
  {
   "cell_type": "code",
   "execution_count": 40,
   "id": "4231d371",
   "metadata": {},
   "outputs": [
    {
     "data": {
      "text/plain": [
       "Index(['Event Id', 'Investigation Type', 'Country', 'Aircraft Damage',\n",
       "       'Aircraft Category', 'Make', 'Model', 'Amateur Built',\n",
       "       'Number Of Engines', 'Engine Type', 'Far Description', 'Schedule',\n",
       "       'Purpose Of Flight', 'Total Fatal Injuries', 'Total Serious Injuries',\n",
       "       'Total Minor Injuries', 'Total Uninjured', 'Weather Condition',\n",
       "       'Broad Phase Of Flight', 'Analysis', 'City', 'Longitude', 'Latitude',\n",
       "       'Address', 'geometry', 'Place', 'Number Of Seats', 'Type Aircraft',\n",
       "       'Type Engine', 'Total Person', 'Far Description Factorized',\n",
       "       'Schedule Factorized', 'Purpose Of Flight Factorized',\n",
       "       'Make Factorized', 'Model Factorized', 'Event Year', 'Publication Year',\n",
       "       'Event Month', 'Publication Month', 'Event Day', 'Publication Day',\n",
       "       'Date Difference', 'Publication Month Name', 'Event Month Name',\n",
       "       'Season'],\n",
       "      dtype='object')"
      ]
     },
     "execution_count": 40,
     "metadata": {},
     "output_type": "execute_result"
    }
   ],
   "source": [
    "#checking available columns\n",
    "ntsb_database_df.columns"
   ]
  },
  {
   "cell_type": "code",
   "execution_count": 41,
   "id": "494b37c1",
   "metadata": {},
   "outputs": [
    {
     "name": "stdout",
     "output_type": "stream",
     "text": [
      "<class 'pandas.core.frame.DataFrame'>\n",
      "Int64Index: 87292 entries, 0 to 87291\n",
      "Data columns (total 27 columns):\n",
      " #   Column                  Non-Null Count  Dtype         \n",
      "---  ------                  --------------  -----         \n",
      " 0   Event.Id                87292 non-null  object        \n",
      " 1   Investigation.Type      87292 non-null  object        \n",
      " 2   Event.Date              87292 non-null  datetime64[ns]\n",
      " 3   Country                 87292 non-null  object        \n",
      " 4   Injury.Severity         87292 non-null  object        \n",
      " 5   Aircraft.damage         87292 non-null  object        \n",
      " 6   Aircraft.Category       87292 non-null  object        \n",
      " 7   Make                    87292 non-null  object        \n",
      " 8   Model                   87292 non-null  object        \n",
      " 9   Amateur.Built           87292 non-null  category      \n",
      " 10  Number.of.Engines       87292 non-null  float64       \n",
      " 11  Engine.Type             87292 non-null  object        \n",
      " 12  Purpose.of.flight       87292 non-null  object        \n",
      " 13  Total.Fatal.Injuries    87292 non-null  float64       \n",
      " 14  Total.Serious.Injuries  87292 non-null  float64       \n",
      " 15  Total.Minor.Injuries    87292 non-null  float64       \n",
      " 16  Total.Uninjured         87292 non-null  float64       \n",
      " 17  City                    87292 non-null  object        \n",
      " 18  State                   87292 non-null  object        \n",
      " 19  Event Id                87292 non-null  object        \n",
      " 20  Total Person            87292 non-null  int64         \n",
      " 21  Address                 87292 non-null  object        \n",
      " 22  Broad Phase Of Flight   87292 non-null  object        \n",
      " 23  Season                  87292 non-null  object        \n",
      " 24  Longitude               87292 non-null  float64       \n",
      " 25  Latitude                87292 non-null  float64       \n",
      " 26  Place                   87292 non-null  object        \n",
      "dtypes: category(1), datetime64[ns](1), float64(7), int64(1), object(17)\n",
      "memory usage: 18.1+ MB\n"
     ]
    }
   ],
   "source": [
    "#merging the two dataframes into a single dataframe using inner option\n",
    "merged_df=aviation_data_df.merge(ntsb_database_df[['Event Id',\"Total Person\",\"Address\",\"Broad Phase Of Flight\",\"Season\",\"Longitude\",\"Latitude\",\"Place\"]],left_on='Event.Id',right_on='Event Id',how='inner')\n",
    "merged_df.info()"
   ]
  },
  {
   "cell_type": "markdown",
   "id": "0ff1d5fa",
   "metadata": {},
   "source": [
    "we have two columns,Event.Id and Event Id, hence we can drop one."
   ]
  },
  {
   "cell_type": "code",
   "execution_count": 42,
   "id": "ab0327fd",
   "metadata": {},
   "outputs": [
    {
     "name": "stdout",
     "output_type": "stream",
     "text": [
      "<class 'pandas.core.frame.DataFrame'>\n",
      "Int64Index: 87292 entries, 0 to 87291\n",
      "Data columns (total 26 columns):\n",
      " #   Column                  Non-Null Count  Dtype         \n",
      "---  ------                  --------------  -----         \n",
      " 0   Event.Id                87292 non-null  object        \n",
      " 1   Investigation.Type      87292 non-null  object        \n",
      " 2   Event.Date              87292 non-null  datetime64[ns]\n",
      " 3   Country                 87292 non-null  object        \n",
      " 4   Injury.Severity         87292 non-null  object        \n",
      " 5   Aircraft.damage         87292 non-null  object        \n",
      " 6   Aircraft.Category       87292 non-null  object        \n",
      " 7   Make                    87292 non-null  object        \n",
      " 8   Model                   87292 non-null  object        \n",
      " 9   Amateur.Built           87292 non-null  category      \n",
      " 10  Number.of.Engines       87292 non-null  float64       \n",
      " 11  Engine.Type             87292 non-null  object        \n",
      " 12  Purpose.of.flight       87292 non-null  object        \n",
      " 13  Total.Fatal.Injuries    87292 non-null  float64       \n",
      " 14  Total.Serious.Injuries  87292 non-null  float64       \n",
      " 15  Total.Minor.Injuries    87292 non-null  float64       \n",
      " 16  Total.Uninjured         87292 non-null  float64       \n",
      " 17  City                    87292 non-null  object        \n",
      " 18  State                   87292 non-null  object        \n",
      " 19  Total Person            87292 non-null  int64         \n",
      " 20  Address                 87292 non-null  object        \n",
      " 21  Broad Phase Of Flight   87292 non-null  object        \n",
      " 22  Season                  87292 non-null  object        \n",
      " 23  Longitude               87292 non-null  float64       \n",
      " 24  Latitude                87292 non-null  float64       \n",
      " 25  Place                   87292 non-null  object        \n",
      "dtypes: category(1), datetime64[ns](1), float64(7), int64(1), object(16)\n",
      "memory usage: 17.4+ MB\n"
     ]
    }
   ],
   "source": [
    "#using drop function we drop the extra Event.id column\n",
    "merged_df.drop([\"Event Id\"], axis = 1,inplace=True)\n",
    "merged_df.info()"
   ]
  },
  {
   "cell_type": "code",
   "execution_count": 43,
   "id": "2f2e6107",
   "metadata": {},
   "outputs": [
    {
     "name": "stdout",
     "output_type": "stream",
     "text": [
      "<class 'pandas.core.frame.DataFrame'>\n",
      "Int64Index: 87292 entries, 0 to 87291\n",
      "Data columns (total 26 columns):\n",
      " #   Column                  Non-Null Count  Dtype         \n",
      "---  ------                  --------------  -----         \n",
      " 0   Event.Id                87292 non-null  object        \n",
      " 1   Investigation.Type      87292 non-null  object        \n",
      " 2   Event.Date              87292 non-null  datetime64[ns]\n",
      " 3   Country                 87292 non-null  object        \n",
      " 4   Injury.Severity         87292 non-null  object        \n",
      " 5   Aircraft.damage         87292 non-null  object        \n",
      " 6   Aircraft.Category       87292 non-null  object        \n",
      " 7   Make                    87292 non-null  object        \n",
      " 8   Model                   87292 non-null  object        \n",
      " 9   Amateur.Built           87292 non-null  category      \n",
      " 10  Number.of.Engines       87292 non-null  float64       \n",
      " 11  Engine.Type             87292 non-null  object        \n",
      " 12  Purpose.of.flight       87292 non-null  object        \n",
      " 13  Total.Fatal.Injuries    87292 non-null  float64       \n",
      " 14  Total.Serious.Injuries  87292 non-null  float64       \n",
      " 15  Total.Minor.Injuries    87292 non-null  float64       \n",
      " 16  Total.Uninjured         87292 non-null  float64       \n",
      " 17  City                    87292 non-null  object        \n",
      " 18  State                   87292 non-null  object        \n",
      " 19  Total Person            87292 non-null  int64         \n",
      " 20  Address                 87292 non-null  object        \n",
      " 21  Broad Phase Of Flight   87292 non-null  object        \n",
      " 22  Season                  87292 non-null  object        \n",
      " 23  Longitude               87292 non-null  float64       \n",
      " 24  Latitude                87292 non-null  float64       \n",
      " 25  Place                   87292 non-null  object        \n",
      "dtypes: category(1), datetime64[ns](1), float64(7), int64(1), object(16)\n",
      "memory usage: 17.4+ MB\n"
     ]
    }
   ],
   "source": [
    "merged_df.info()"
   ]
  },
  {
   "cell_type": "markdown",
   "id": "57b4c0d9",
   "metadata": {},
   "source": [
    "We can check the summary statistics for our new dataframe"
   ]
  },
  {
   "cell_type": "code",
   "execution_count": 44,
   "id": "4cbaa04c",
   "metadata": {},
   "outputs": [
    {
     "data": {
      "text/html": [
       "<div>\n",
       "<style scoped>\n",
       "    .dataframe tbody tr th:only-of-type {\n",
       "        vertical-align: middle;\n",
       "    }\n",
       "\n",
       "    .dataframe tbody tr th {\n",
       "        vertical-align: top;\n",
       "    }\n",
       "\n",
       "    .dataframe thead th {\n",
       "        text-align: right;\n",
       "    }\n",
       "</style>\n",
       "<table border=\"1\" class=\"dataframe\">\n",
       "  <thead>\n",
       "    <tr style=\"text-align: right;\">\n",
       "      <th></th>\n",
       "      <th>Number.of.Engines</th>\n",
       "      <th>Total.Fatal.Injuries</th>\n",
       "      <th>Total.Serious.Injuries</th>\n",
       "      <th>Total.Minor.Injuries</th>\n",
       "      <th>Total.Uninjured</th>\n",
       "      <th>Total Person</th>\n",
       "      <th>Longitude</th>\n",
       "      <th>Latitude</th>\n",
       "    </tr>\n",
       "  </thead>\n",
       "  <tbody>\n",
       "    <tr>\n",
       "      <th>count</th>\n",
       "      <td>87292.000000</td>\n",
       "      <td>87292.000000</td>\n",
       "      <td>87292.000000</td>\n",
       "      <td>87292.000000</td>\n",
       "      <td>87292.000000</td>\n",
       "      <td>87292.000000</td>\n",
       "      <td>87292.000000</td>\n",
       "      <td>87292.000000</td>\n",
       "    </tr>\n",
       "    <tr>\n",
       "      <th>mean</th>\n",
       "      <td>1.132693</td>\n",
       "      <td>0.547301</td>\n",
       "      <td>0.240583</td>\n",
       "      <td>0.301528</td>\n",
       "      <td>4.633346</td>\n",
       "      <td>5.722758</td>\n",
       "      <td>-84.599353</td>\n",
       "      <td>37.544204</td>\n",
       "    </tr>\n",
       "    <tr>\n",
       "      <th>std</th>\n",
       "      <td>0.425930</td>\n",
       "      <td>4.906293</td>\n",
       "      <td>1.442345</td>\n",
       "      <td>1.973245</td>\n",
       "      <td>25.209761</td>\n",
       "      <td>26.025922</td>\n",
       "      <td>46.788933</td>\n",
       "      <td>13.963384</td>\n",
       "    </tr>\n",
       "    <tr>\n",
       "      <th>min</th>\n",
       "      <td>0.000000</td>\n",
       "      <td>0.000000</td>\n",
       "      <td>0.000000</td>\n",
       "      <td>0.000000</td>\n",
       "      <td>0.000000</td>\n",
       "      <td>0.000000</td>\n",
       "      <td>-177.375430</td>\n",
       "      <td>-77.848335</td>\n",
       "    </tr>\n",
       "    <tr>\n",
       "      <th>25%</th>\n",
       "      <td>1.000000</td>\n",
       "      <td>0.000000</td>\n",
       "      <td>0.000000</td>\n",
       "      <td>0.000000</td>\n",
       "      <td>0.000000</td>\n",
       "      <td>1.000000</td>\n",
       "      <td>-110.974847</td>\n",
       "      <td>33.415048</td>\n",
       "    </tr>\n",
       "    <tr>\n",
       "      <th>50%</th>\n",
       "      <td>1.000000</td>\n",
       "      <td>0.000000</td>\n",
       "      <td>0.000000</td>\n",
       "      <td>0.000000</td>\n",
       "      <td>1.000000</td>\n",
       "      <td>2.000000</td>\n",
       "      <td>-90.754956</td>\n",
       "      <td>38.756867</td>\n",
       "    </tr>\n",
       "    <tr>\n",
       "      <th>75%</th>\n",
       "      <td>1.000000</td>\n",
       "      <td>0.000000</td>\n",
       "      <td>0.000000</td>\n",
       "      <td>0.000000</td>\n",
       "      <td>2.000000</td>\n",
       "      <td>2.000000</td>\n",
       "      <td>-79.674203</td>\n",
       "      <td>43.207178</td>\n",
       "    </tr>\n",
       "    <tr>\n",
       "      <th>max</th>\n",
       "      <td>8.000000</td>\n",
       "      <td>349.000000</td>\n",
       "      <td>161.000000</td>\n",
       "      <td>380.000000</td>\n",
       "      <td>699.000000</td>\n",
       "      <td>699.000000</td>\n",
       "      <td>179.559745</td>\n",
       "      <td>90.000000</td>\n",
       "    </tr>\n",
       "  </tbody>\n",
       "</table>\n",
       "</div>"
      ],
      "text/plain": [
       "       Number.of.Engines  Total.Fatal.Injuries  Total.Serious.Injuries  \\\n",
       "count       87292.000000          87292.000000            87292.000000   \n",
       "mean            1.132693              0.547301                0.240583   \n",
       "std             0.425930              4.906293                1.442345   \n",
       "min             0.000000              0.000000                0.000000   \n",
       "25%             1.000000              0.000000                0.000000   \n",
       "50%             1.000000              0.000000                0.000000   \n",
       "75%             1.000000              0.000000                0.000000   \n",
       "max             8.000000            349.000000              161.000000   \n",
       "\n",
       "       Total.Minor.Injuries  Total.Uninjured  Total Person     Longitude  \\\n",
       "count          87292.000000     87292.000000  87292.000000  87292.000000   \n",
       "mean               0.301528         4.633346      5.722758    -84.599353   \n",
       "std                1.973245        25.209761     26.025922     46.788933   \n",
       "min                0.000000         0.000000      0.000000   -177.375430   \n",
       "25%                0.000000         0.000000      1.000000   -110.974847   \n",
       "50%                0.000000         1.000000      2.000000    -90.754956   \n",
       "75%                0.000000         2.000000      2.000000    -79.674203   \n",
       "max              380.000000       699.000000    699.000000    179.559745   \n",
       "\n",
       "           Latitude  \n",
       "count  87292.000000  \n",
       "mean      37.544204  \n",
       "std       13.963384  \n",
       "min      -77.848335  \n",
       "25%       33.415048  \n",
       "50%       38.756867  \n",
       "75%       43.207178  \n",
       "max       90.000000  "
      ]
     },
     "execution_count": 44,
     "metadata": {},
     "output_type": "execute_result"
    }
   ],
   "source": [
    "#summary statistics for numerical columns\n",
    "merged_df.describe()"
   ]
  },
  {
   "cell_type": "markdown",
   "id": "ec3a7f2f",
   "metadata": {},
   "source": [
    "We can also create a new column Total Injuries which takes the sum of the columns,Total Serious Injuries and Total Minor Injuries to represent the total number of injured people"
   ]
  },
  {
   "cell_type": "code",
   "execution_count": 45,
   "id": "32db1279",
   "metadata": {},
   "outputs": [],
   "source": [
    "#creating a new column \n",
    "merged_df[\"Total.Injuries\"]=merged_df[\"Total.Serious.Injuries\"]+merged_df[\"Total.Minor.Injuries\"]"
   ]
  },
  {
   "cell_type": "markdown",
   "id": "08751505",
   "metadata": {},
   "source": [
    "we can also strip the white spaces and remove the splitter then lower the column names"
   ]
  },
  {
   "cell_type": "code",
   "execution_count": 46,
   "id": "42e8da72",
   "metadata": {},
   "outputs": [
    {
     "data": {
      "text/plain": [
       "Index(['event id', 'investigation type', 'event date', 'country',\n",
       "       'injury severity', 'aircraft damage', 'aircraft category', 'make',\n",
       "       'model', 'amateur built', 'number of engines', 'engine type',\n",
       "       'purpose of flight', 'total fatal injuries', 'total serious injuries',\n",
       "       'total minor injuries', 'total uninjured', 'city', 'state',\n",
       "       'total person', 'address', 'broad phase of flight', 'season',\n",
       "       'longitude', 'latitude', 'place', 'total injuries'],\n",
       "      dtype='object')"
      ]
     },
     "execution_count": 46,
     "metadata": {},
     "output_type": "execute_result"
    }
   ],
   "source": [
    "merged_df.columns = [col.strip().lower().replace(\".\",\" \") for col in merged_df.columns]\n",
    "merged_df.columns"
   ]
  },
  {
   "cell_type": "code",
   "execution_count": 47,
   "id": "9f244477",
   "metadata": {},
   "outputs": [],
   "source": [
    "#additional cleaning and correcting data types\n",
    "merged_df[\"year\"]=merged_df[\"event date\"].dt.year\n",
    "merged_df[\"month\"]=merged_df[\"event date\"].dt.month\n",
    "merged_df[\"date\"]=merged_df[\"event date\"].dt.day\n",
    "merged_df[[\"number of engines\",\"total injuries\",\"total fatal injuries\",\"total uninjured\",\"total minor injuries\",\"total serious injuries\"]]=merged_df[[\"number of engines\",\"total injuries\",\"total fatal injuries\",\"total uninjured\",\"total minor injuries\",\"total serious injuries\"]].astype(\"int\")"
   ]
  },
  {
   "cell_type": "markdown",
   "id": "a61863ac",
   "metadata": {},
   "source": [
    "Finally we can save the file as a new cleaned csv file"
   ]
  },
  {
   "cell_type": "code",
   "execution_count": 48,
   "id": "8c3c149f",
   "metadata": {},
   "outputs": [],
   "source": [
    "#creating a new clean file\n",
    "merged_df.to_csv(\"CleanedAviationData.csv\", index=False)"
   ]
  },
  {
   "cell_type": "markdown",
   "id": "9e0b74c9",
   "metadata": {},
   "source": [
    "### Data Analysis"
   ]
  },
  {
   "cell_type": "markdown",
   "id": "f1a2c732",
   "metadata": {},
   "source": [
    "We now have a clean dataset which we use to analyse in order to come with recommendations for the type of aircraft to acquire based on the purpose among other considerations\n",
    "We can view the number of total fatal injuries associated with different engine types and from that we can select those with the least total fatal injuries."
   ]
  },
  {
   "cell_type": "markdown",
   "id": "368ea769",
   "metadata": {},
   "source": [
    "First, we will filter the dataframe object in order to view only rows for the business category in our purpose of flight column because that would relate to the aircraft we would like to operate for commercial entreprise.\n",
    "we can also filter according to personal category for private use"
   ]
  },
  {
   "cell_type": "code",
   "execution_count": 49,
   "id": "9ed06f84",
   "metadata": {},
   "outputs": [
    {
     "data": {
      "text/plain": [
       "array(['Personal', 'Unknown', 'Business', 'Instructional', 'Ferry',\n",
       "       'Executive/corporate', 'Aerial Observation', 'Aerial Application',\n",
       "       'Public Aircraft', 'Skydiving', 'Other Work Use', 'Positioning',\n",
       "       'Flight Test', 'Air Race/show', 'Air Drop',\n",
       "       'Public Aircraft - Federal', 'Glider Tow',\n",
       "       'Public Aircraft - Local', 'External Load',\n",
       "       'Public Aircraft - State', 'Banner Tow', 'Firefighting',\n",
       "       'Air Race show', 'PUBS', 'ASHO', 'PUBL'], dtype=object)"
      ]
     },
     "execution_count": 49,
     "metadata": {},
     "output_type": "execute_result"
    }
   ],
   "source": [
    "merged_df[\"purpose of flight\"].unique()"
   ]
  },
  {
   "cell_type": "code",
   "execution_count": 50,
   "id": "32fdc31c",
   "metadata": {},
   "outputs": [],
   "source": [
    "#filtering the dataframe and renaming the new dataframes according to the purpose\n",
    "business_df=merged_df[merged_df[\"purpose of flight\"]==\"Business\"]\n",
    "personal_df=merged_df[merged_df[\"purpose of flight\"]==\"Personal\"]"
   ]
  },
  {
   "cell_type": "markdown",
   "id": "5f572137",
   "metadata": {},
   "source": [
    "we can then visualize the total number of injuries associated with different engine types"
   ]
  },
  {
   "cell_type": "code",
   "execution_count": 51,
   "id": "8ad37ca1",
   "metadata": {},
   "outputs": [
    {
     "data": {
      "image/png": "[encoded data removed]",
      "text/plain": [
       "<Figure size 720x432 with 1 Axes>"
      ]
     },
     "metadata": {},
     "output_type": "display_data"
    }
   ],
   "source": [
    "fatal_injuries_by_engine = business_df.groupby(\"engine type\")[\"total fatal injuries\"].sum().sort_values(ascending=False)\n",
    "\n",
    "# Set plot style\n",
    "sns.set_style(\"whitegrid\")\n",
    "plt.figure(figsize=(10, 6))\n",
    "\n",
    "# Create barplot\n",
    "sns.barplot(x=fatal_injuries_by_engine.index, y=fatal_injuries_by_engine.values, palette=\"Blues_d\")\n",
    "\n",
    "# Add titles and labels\n",
    "plt.title(\"Total Fatal Injuries by Engine Type\", fontsize=16, fontweight='bold')\n",
    "plt.xlabel(\"Engine Type\", fontsize=12)\n",
    "plt.ylabel(\"Total Fatal Injuries\", fontsize=12)\n",
    "\n",
    "# Rotate x-axis labels for readability\n",
    "plt.xticks(rotation=45, ha='right')\n",
    "\n",
    "# Tight layout for better spacing\n",
    "plt.tight_layout()\n",
    "plt.show()\n",
    "\n",
    "\n",
    "\n",
    "\n",
    "\n"
   ]
  },
  {
   "cell_type": "markdown",
   "id": "8e5026bf",
   "metadata": {},
   "source": [
    "### We can conclude that in our purchase, we would need to avoid aircraft which use reciprocating engine types as these are associated with a higher total fatal injuries count. We can recommenfd those that use electric, LR or even Turbo fan."
   ]
  },
  {
   "cell_type": "markdown",
   "id": "8a0d3c22",
   "metadata": {},
   "source": [
    "Checking the total fatal injuries caused by the different aircraft categories."
   ]
  },
  {
   "cell_type": "code",
   "execution_count": 52,
   "id": "93ca5495",
   "metadata": {},
   "outputs": [
    {
     "data": {
      "image/png": "[encoded data removed]",
      "text/plain": [
       "<Figure size 720x432 with 1 Axes>"
      ]
     },
     "metadata": {},
     "output_type": "display_data"
    }
   ],
   "source": [
    "fatal_injuries_by_category = business_df.groupby(\"aircraft category\")[\"total fatal injuries\"].sum().sort_values(ascending=False)\n",
    "\n",
    "# Set plot style\n",
    "sns.set_style(\"whitegrid\")\n",
    "plt.figure(figsize=(10, 6))\n",
    "\n",
    "# Create barplot\n",
    "sns.barplot(x=fatal_injuries_by_category.index, y=fatal_injuries_by_category.values, palette=\"coolwarm\")\n",
    "\n",
    "# Add titles and labels\n",
    "plt.title(\"Total Fatal Injuries by Aircraft Category\", fontsize=16, fontweight='bold')\n",
    "plt.xlabel(\"Aircraft Category\", fontsize=12)\n",
    "plt.ylabel(\"Total Fatal Injuries\", fontsize=12)\n",
    "\n",
    "# Rotate x-axis labels for readability\n",
    "plt.xticks(rotation=45, ha='right')\n",
    "\n",
    "# Tight layout for better spacing\n",
    "plt.tight_layout()\n",
    "plt.show()\n",
    "\n"
   ]
  },
  {
   "cell_type": "markdown",
   "id": "381dbd3b",
   "metadata": {},
   "source": [
    "### We can conclude that for business purposes, helicopters are the best option as it can be seen that they have the least number of fatal injuries"
   ]
  },
  {
   "cell_type": "code",
   "execution_count": 53,
   "id": "34edd3d6",
   "metadata": {},
   "outputs": [
    {
     "data": {
      "text/plain": [
       "<Figure size 864x504 with 0 Axes>"
      ]
     },
     "metadata": {},
     "output_type": "display_data"
    },
    {
     "data": {
      "image/png": "[encoded data removed]",
      "text/plain": [
       "<Figure size 864x504 with 1 Axes>"
      ]
     },
     "metadata": {},
     "output_type": "display_data"
    }
   ],
   "source": [
    "top_models = business_df[\"model\"].value_counts().head(10).index\n",
    "damage_by_model = (business_df.groupby([\"model\", \"aircraft damage\"]).size().unstack(fill_value=0).loc[top_models])\n",
    "\n",
    "# Set plot style\n",
    "sns.set_style(\"whitegrid\")\n",
    "plt.figure(figsize=(12, 7))\n",
    "\n",
    "# Create stacked bar plot\n",
    "damage_by_model.plot(kind=\"bar\", stacked=True, colormap=\"Set2\", figsize=(12, 7))\n",
    "\n",
    "# Add titles and labels\n",
    "plt.title(\"Aircraft Damage Severity by Top 10 Aircraft Models\", fontsize=16, fontweight='bold')\n",
    "plt.xlabel(\"Aircraft Model\", fontsize=12)\n",
    "plt.ylabel(\"Number of Accidents/Incidents\", fontsize=12)\n",
    "\n",
    "# Rotate x-axis labels for readability\n",
    "plt.xticks(rotation=45, ha='right')\n",
    "\n",
    "# Add legend outside the plot\n",
    "plt.legend(title=\"Damage Level\", loc='upper right')\n",
    "\n",
    "# Tight layout for better spacing\n",
    "plt.tight_layout()\n",
    "plt.show()\n",
    "\n"
   ]
  },
  {
   "cell_type": "markdown",
   "id": "58d19cce",
   "metadata": {},
   "source": [
    "The least robust model is the A36 model\n"
   ]
  },
  {
   "cell_type": "markdown",
   "id": "eefcc1b2",
   "metadata": {},
   "source": [
    "what about the airplane with the highest uninjured people?"
   ]
  },
  {
   "cell_type": "code",
   "execution_count": 54,
   "id": "5326b7c9",
   "metadata": {},
   "outputs": [
    {
     "data": {
      "image/png": "[encoded data removed]",
      "text/plain": [
       "<Figure size 864x504 with 1 Axes>"
      ]
     },
     "metadata": {},
     "output_type": "display_data"
    }
   ],
   "source": [
    "\n",
    "uninjured_by_make_model = (\n",
    "    business_df.groupby([\"make\", \"model\"])[\"total uninjured\"].sum().sort_values(ascending=False).head(10)\n",
    ")\n",
    "\n",
    "# Format index for readability\n",
    "labels = [f\"{make} {model}\" for make, model in uninjured_by_make_model.index]\n",
    "\n",
    "# Set plot style\n",
    "sns.set_style(\"whitegrid\")\n",
    "plt.figure(figsize=(12, 7))\n",
    "\n",
    "# Create barplot\n",
    "sns.barplot(x=labels, y=uninjured_by_make_model.values, palette=\"Greens\")\n",
    "\n",
    "# Add titles and labels\n",
    "plt.title(\"Safest Aircraft (by Uninjured Count)\", fontsize=16, fontweight='bold')\n",
    "plt.xlabel(\"Make and Model\", fontsize=12)\n",
    "plt.ylabel(\"Total Uninjured\", fontsize=12)\n",
    "\n",
    "# Rotate x-axis labels for readability\n",
    "plt.xticks(rotation=45, ha='right')\n",
    "\n",
    "# Tight layout for better spacing\n",
    "plt.tight_layout()\n",
    "plt.show()\n",
    "\n"
   ]
  },
  {
   "cell_type": "markdown",
   "id": "cd62de49",
   "metadata": {},
   "source": [
    "### We can see from the above visualization that the Gates Learjet,24E has the highest number of uninjured people, hence we reccommend that we acquire that aircraft. "
   ]
  },
  {
   "cell_type": "markdown",
   "id": "c96e4f05",
   "metadata": {},
   "source": [
    "## Conclusion\n"
   ]
  },
  {
   "cell_type": "markdown",
   "id": "f07d2af2",
   "metadata": {},
   "source": [
    "### From the results, aircraft with electric engine types are recommended while those with reciprocating engine types should be avoided since they are involved in the highest fatalities and accident occurrences.\n",
    "### The company should consider acquiring the Gates Learjet,24E which is the safest option for business purposes since it has the highest rates of uninjured users.\n",
    "### The company should also consider opting for helicopters as well because they are among the aircraft categories associated with the least fatal injuries during business flights.\n",
    "### The company should also steer clear of the Cessna make and A36 model because the data associates them with high aircraft damage and potentially the highest fatalities and accident rates.\n",
    "\n",
    "\n",
    "*For future projects, the make and models could be grouped together to further narrow down on specific aircraft characteristics.*\n"
   ]
  }
 ],
 "metadata": {
  "kernelspec": {
   "display_name": "learn-env",
   "language": "python",
   "name": "python3"
  },
  "language_info": {
   "codemirror_mode": {
    "name": "ipython",
    "version": 3
   },
   "file_extension": ".py",
   "mimetype": "text/x-python",
   "name": "python",
   "nbconvert_exporter": "python",
   "pygments_lexer": "ipython3",
   "version": "3.8.5"
  }
 },
 "nbformat": 4,
 "nbformat_minor": 5
}
